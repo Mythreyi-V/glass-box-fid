{
 "cells": [
  {
   "cell_type": "code",
   "execution_count": 1,
   "metadata": {},
   "outputs": [],
   "source": [
    "import pandas as pd\n",
    "import numpy as np\n",
    "\n",
    "import os\n",
    "\n",
    "import seaborn as sns\n",
    "import matplotlib.pyplot as plt\n",
    "%matplotlib inline\n",
    "\n",
    "import warnings\n",
    "warnings.filterwarnings('ignore')\n",
    "\n",
    "from pathlib import Path"
   ]
  },
  {
   "cell_type": "code",
   "execution_count": 2,
   "metadata": {},
   "outputs": [],
   "source": [
    "classification_datasets = [\"breast_cancer\", \"compas\", \"diabetes\", \"income\", \"iris\", \"mushroom\", \"nursery\"]\n",
    "regression_datasets = [\"bike_sharing\", \"facebook\", \"housing\", \"real_estate\", \"solar_flare\", \n",
    "                       \"student_scores\", \"wine_quality\"]\n",
    "datasets = []\n",
    "datasets.extend(classification_datasets)\n",
    "datasets.extend(regression_datasets)\n",
    "\n",
    "#models = [\"decision_tree\", \"xgboost\"]\n",
    "\n",
    "data_names = {\"breast_cancer\":\"Breast Cancer\", \"compas\": \"COMPAS\", \"diabetes\":\"Diabetes\", \n",
    "              \"income\": \"Adult Income\", \"iris\": \"Iris\", \"mushroom\": \"Mushroom\", \"nursery\": \"Nursery\",#}\n",
    "              \"bike_sharing\": \"Bike Rentals\", \"facebook\": \"Facebook Metrics\", \"housing\" : \"House Prices\", \"real_estate\" : \"Real Estate\",\n",
    "              \"solar_flare\": \"Solar Flare\", \"student_scores\": \"Student Scores\", \"wine_quality\": \"Wine Quality\"}\n",
    "\n",
    "PATH = Path(os.getcwd()).parent"
   ]
  },
  {
   "cell_type": "code",
   "execution_count": 3,
   "metadata": {},
   "outputs": [
    {
     "name": "stdout",
     "output_type": "stream",
     "text": [
      "Breast Cancer\n",
      "Num variables:\t 30\n",
      "Num training instances:\t 296\n",
      "Ratio of variables to instances:\t 9.866666666666667\n",
      "diagnosis\n",
      "1            51.013514\n",
      "0            48.986486\n",
      "dtype: float64\n",
      "----------------------------------------------------------------------------\n",
      "COMPAS\n",
      "Num variables:\t 20\n",
      "Num training instances:\t 2793\n",
      "Ratio of variables to instances:\t 139.65\n",
      "high_risk\n",
      "0            50.125313\n",
      "1            49.874687\n",
      "dtype: float64\n",
      "----------------------------------------------------------------------------\n",
      "Diabetes\n",
      "Num variables:\t 8\n",
      "Num training instances:\t 375\n",
      "Ratio of variables to instances:\t 46.875\n",
      "Outcome\n",
      "1          50.4\n",
      "0          49.6\n",
      "dtype: float64\n",
      "----------------------------------------------------------------------------\n",
      "Adult Income\n",
      "Num variables:\t 104\n",
      "Num training instances:\t 10977\n",
      "Ratio of variables to instances:\t 105.54807692307692\n",
      "income\n",
      "0         50.469163\n",
      "1         49.530837\n",
      "dtype: float64\n",
      "----------------------------------------------------------------------------\n",
      "Iris\n",
      "Num variables:\t 4\n",
      "Num training instances:\t 70\n",
      "Ratio of variables to instances:\t 17.5\n",
      "class\n",
      "0        52.857143\n",
      "1        47.142857\n",
      "dtype: float64\n",
      "----------------------------------------------------------------------------\n",
      "Mushroom\n",
      "Num variables:\t 117\n",
      "Num training instances:\t 5482\n",
      "Ratio of variables to instances:\t 46.85470085470085\n",
      "target\n",
      "0         50.091208\n",
      "1         49.908792\n",
      "dtype: float64\n",
      "----------------------------------------------------------------------------\n",
      "Nursery\n",
      "Num variables:\t 27\n",
      "Num training instances:\t 6048\n",
      "Ratio of variables to instances:\t 224.0\n",
      "class\n",
      "0        50.396825\n",
      "1        49.603175\n",
      "dtype: float64\n",
      "----------------------------------------------------------------------------\n"
     ]
    }
   ],
   "source": [
    "for data in classification_datasets:\n",
    "    print(data_names[data])\n",
    "    X_train = pd.read_csv(os.path.join(PATH, data, \"datasets\", data+\"_Xtrain.csv\"), index_col=False, sep = \";\")#.values\n",
    "    y_train = pd.read_csv(os.path.join(PATH, data, \"datasets\", data+\"_ytrain.csv\"), index_col=False, sep = \";\")#.values\n",
    "    \n",
    "    print(\"Num variables:\\t\", X_train.shape[1])\n",
    "    print(\"Num training instances:\\t\", X_train.shape[0])\n",
    "    print(\"Ratio of variables to instances:\\t\", X_train.shape[0]/X_train.shape[1])\n",
    "    \n",
    "    print(y_train.value_counts(normalize=True)*100)\n",
    "    print(\"----------------------------------------------------------------------------\")"
   ]
  },
  {
   "cell_type": "code",
   "execution_count": 4,
   "metadata": {},
   "outputs": [
    {
     "name": "stdout",
     "output_type": "stream",
     "text": [
      "Bike Rentals\n",
      "Num variables:\t 61\n",
      "Num training instances:\t 12165\n",
      "Ratio of variables to instances:\t 199.4262295081967\n"
     ]
    },
    {
     "data": {
      "image/png": "[encoded data removed]",
      "text/plain": [
       "<Figure size 432x288 with 1 Axes>"
      ]
     },
     "metadata": {
      "needs_background": "light"
     },
     "output_type": "display_data"
    },
    {
     "name": "stdout",
     "output_type": "stream",
     "text": [
      "----------------------------------------------------------------------------\n",
      "Facebook Metrics\n",
      "Num variables:\t 49\n",
      "Num training instances:\t 349\n",
      "Ratio of variables to instances:\t 7.122448979591836\n"
     ]
    },
    {
     "data": {
      "image/png": "[encoded data removed]",
      "text/plain": [
       "<Figure size 432x288 with 1 Axes>"
      ]
     },
     "metadata": {
      "needs_background": "light"
     },
     "output_type": "display_data"
    },
    {
     "name": "stdout",
     "output_type": "stream",
     "text": [
      "----------------------------------------------------------------------------\n",
      "House Prices\n",
      "Num variables:\t 22\n",
      "Num training instances:\t 354\n",
      "Ratio of variables to instances:\t 16.09090909090909\n"
     ]
    },
    {
     "data": {
      "image/png": "[encoded data removed]",
      "text/plain": [
       "<Figure size 432x288 with 1 Axes>"
      ]
     },
     "metadata": {
      "needs_background": "light"
     },
     "output_type": "display_data"
    },
    {
     "name": "stdout",
     "output_type": "stream",
     "text": [
      "----------------------------------------------------------------------------\n",
      "Real Estate\n",
      "Num variables:\t 6\n",
      "Num training instances:\t 289\n",
      "Ratio of variables to instances:\t 48.166666666666664\n"
     ]
    },
    {
     "data": {
      "image/png": "[encoded data removed]",
      "text/plain": [
       "<Figure size 432x288 with 1 Axes>"
      ]
     },
     "metadata": {
      "needs_background": "light"
     },
     "output_type": "display_data"
    },
    {
     "name": "stdout",
     "output_type": "stream",
     "text": [
      "----------------------------------------------------------------------------\n",
      "Solar Flare\n",
      "Num variables:\t 32\n",
      "Num training instances:\t 972\n",
      "Ratio of variables to instances:\t 30.375\n"
     ]
    },
    {
     "data": {
      "image/png": "[encoded data removed]",
      "text/plain": [
       "<Figure size 432x288 with 1 Axes>"
      ]
     },
     "metadata": {
      "needs_background": "light"
     },
     "output_type": "display_data"
    },
    {
     "name": "stdout",
     "output_type": "stream",
     "text": [
      "----------------------------------------------------------------------------\n",
      "Student Scores\n",
      "Num variables:\t 58\n",
      "Num training instances:\t 454\n",
      "Ratio of variables to instances:\t 7.827586206896552\n"
     ]
    },
    {
     "data": {
      "image/png": "[encoded data removed]",
      "text/plain": [
       "<Figure size 432x288 with 1 Axes>"
      ]
     },
     "metadata": {
      "needs_background": "light"
     },
     "output_type": "display_data"
    },
    {
     "name": "stdout",
     "output_type": "stream",
     "text": [
      "----------------------------------------------------------------------------\n",
      "Wine Quality\n",
      "Num variables:\t 11\n",
      "Num training instances:\t 3428\n",
      "Ratio of variables to instances:\t 311.6363636363636\n"
     ]
    },
    {
     "data": {
      "image/png": "[encoded data removed]",
      "text/plain": [
       "<Figure size 432x288 with 1 Axes>"
      ]
     },
     "metadata": {
      "needs_background": "light"
     },
     "output_type": "display_data"
    },
    {
     "name": "stdout",
     "output_type": "stream",
     "text": [
      "----------------------------------------------------------------------------\n"
     ]
    }
   ],
   "source": [
    "for data in regression_datasets:\n",
    "    print(data_names[data])\n",
    "    X_train = pd.read_csv(os.path.join(PATH, data, \"datasets\", data+\"_Xtrain.csv\"), index_col=False, sep = \";\")#.values\n",
    "    y_train = pd.read_csv(os.path.join(PATH, data, \"datasets\", data+\"_ytrain.csv\"), index_col=False, sep = \";\")#.values\n",
    "    \n",
    "    print(\"Num variables:\\t\", X_train.shape[1])\n",
    "    print(\"Num training instances:\\t\", X_train.shape[0])\n",
    "    print(\"Ratio of variables to instances:\\t\", X_train.shape[0]/X_train.shape[1])\n",
    "    \n",
    "    #print(y_train.value_counts(normalize=True)*100)\n",
    "    #print(y_train.max()[0])\n",
    "    #print(y_train.min()[0])\n",
    "    \n",
    "    min_val = y_train.min()[0]\n",
    "    max_val = y_train.max()[0]\n",
    "    \n",
    "    num_unique = len(np.unique(y_train.values.reshape(len(y_train))))\n",
    "    \n",
    "    if num_unique - min_val <=40:\n",
    "        num_bins = num_unique\n",
    "    elif num_unique > 40 and num_unique <= 100:\n",
    "        num_bins = 10\n",
    "    else:\n",
    "        num_bins = 100\n",
    "        \n",
    "    #print(num_unique, num_bins)\n",
    "    \n",
    "    bins = np.linspace(min_val, max_val, num_bins)\n",
    "    plt.hist(y_train, bins)\n",
    "    plt.show()\n",
    "    print(\"----------------------------------------------------------------------------\")"
   ]
  }
 ],
 "metadata": {
  "kernelspec": {
   "display_name": "Python 3",
   "language": "python",
   "name": "python3"
  },
  "language_info": {
   "codemirror_mode": {
    "name": "ipython",
    "version": 3
   },
   "file_extension": ".py",
   "mimetype": "text/x-python",
   "name": "python",
   "nbconvert_exporter": "python",
   "pygments_lexer": "ipython3",
   "version": "3.7.8"
  }
 },
 "nbformat": 4,
 "nbformat_minor": 4
}
