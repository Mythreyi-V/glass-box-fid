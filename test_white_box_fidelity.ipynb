{
 "cells": [
  {
   "cell_type": "code",
   "execution_count": 1,
   "metadata": {
    "colab": {
     "base_uri": "https://localhost:8080/"
    },
    "executionInfo": {
     "elapsed": 3916,
     "status": "ok",
     "timestamp": 1647493888501,
     "user": {
      "displayName": "Mythreyi Velmurugan",
      "photoUrl": "https://lh3.googleusercontent.com/a-/AOh14Ggmo3ZwNw7WahbpkVzVLN5i6jFbk-vO0eV7keYsmQ=s64",
      "userId": "09509504425224260690"
     },
     "user_tz": -600
    },
    "id": "JYtoSYnbd5nH",
    "outputId": "ae7d4723-9541-483b-ceb3-a9c845e5c496"
   },
   "outputs": [],
   "source": [
    "# from google.colab import drive\n",
    "# drive.mount('/content/drive', force_remount=True)\n",
    "# import os\n",
    "\n",
    "# os.chdir('drive/MyDrive/three-phase-fidelity-wip')\n",
    "# print(os.getcwd())"
   ]
  },
  {
   "cell_type": "code",
   "execution_count": 2,
   "metadata": {
    "colab": {
     "base_uri": "https://localhost:8080/",
     "height": 1000
    },
    "executionInfo": {
     "elapsed": 30065,
     "status": "ok",
     "timestamp": 1647493268033,
     "user": {
      "displayName": "Mythreyi Velmurugan",
      "photoUrl": "https://lh3.googleusercontent.com/a-/AOh14Ggmo3ZwNw7WahbpkVzVLN5i6jFbk-vO0eV7keYsmQ=s64",
      "userId": "09509504425224260690"
     },
     "user_tz": -600
    },
    "id": "t0_5SLqLeHZZ",
    "outputId": "8bb3a3cf-628f-4a28-f2dd-4ec5ccdf751b"
   },
   "outputs": [],
   "source": [
    "# # # # !pip install -r requirements.txt\n",
    "# !pip install ipython==7.31.1\n",
    "# !pip install importlib-metadata==4.10.0\n",
    "# !pip install acv-exp\n",
    "# !pip install hyperopt==0.27\n",
    "# # # ## !pip freeze > requirements.txt"
   ]
  },
  {
   "cell_type": "code",
   "execution_count": 3,
   "metadata": {
    "id": "NyAaFrBnYtpf"
   },
   "outputs": [],
   "source": [
    "# !pip install lime\n",
    "# !pip install shap\n",
    "# !pip install anchor-exp\n",
    "# !pip install hyperopt"
   ]
  },
  {
   "cell_type": "code",
   "execution_count": 4,
   "metadata": {
    "id": "-wJR-jq3gE6Z"
   },
   "outputs": [],
   "source": [
    "# !pip install --requirement requirements.txt"
   ]
  },
  {
   "cell_type": "code",
   "execution_count": 5,
   "metadata": {
    "executionInfo": {
     "elapsed": 307,
     "status": "ok",
     "timestamp": 1647493915201,
     "user": {
      "displayName": "Mythreyi Velmurugan",
      "photoUrl": "https://lh3.googleusercontent.com/a-/AOh14Ggmo3ZwNw7WahbpkVzVLN5i6jFbk-vO0eV7keYsmQ=s64",
      "userId": "09509504425224260690"
     },
     "user_tz": -600
    },
    "id": "PkN3Je0napuy"
   },
   "outputs": [
    {
     "name": "stderr",
     "output_type": "stream",
     "text": [
      "C:\\ProgramData\\Anaconda3\\lib\\site-packages\\numpy\\_distributor_init.py:30: UserWarning: loaded more than 1 DLL from .libs:\n",
      "C:\\ProgramData\\Anaconda3\\lib\\site-packages\\numpy\\.libs\\libopenblas.NOIJJG62EMASZI6NYURL6JBKM4EVBGM7.gfortran-win_amd64.dll\n",
      "C:\\ProgramData\\Anaconda3\\lib\\site-packages\\numpy\\.libs\\libopenblas.XWYDX2IKJW2NMTWSFYNGFUWKQU3LYTCZ.gfortran-win_amd64.dll\n",
      "  warnings.warn(\"loaded more than 1 DLL from .libs:\"\n"
     ]
    }
   ],
   "source": [
    "import pandas as pd\n",
    "import numpy as np\n",
    "\n",
    "from sklearn.metrics import f1_score, classification_report, roc_auc_score, r2_score, mean_absolute_percentage_error\n",
    "from sklearn.model_selection import KFold\n",
    "import sklearn\n",
    "\n",
    "import os\n",
    "import joblib\n",
    "\n",
    "import warnings\n",
    "warnings.filterwarnings('ignore')\n",
    "\n",
    "import statistics\n",
    "import scipy\n",
    "import math\n",
    "\n",
    "import lime\n",
    "import lime.lime_tabular\n",
    "import shap\n",
    "from learning import *\n",
    "import pyAgrum\n",
    "# from acv_explainers import ACXplainer\n",
    "\n",
    "\n",
    "import seaborn as sns\n",
    "\n",
    "import random\n",
    "\n",
    "from tqdm import tqdm_notebook\n",
    "\n",
    "import json"
   ]
  },
  {
   "cell_type": "code",
   "execution_count": 6,
   "metadata": {
    "executionInfo": {
     "elapsed": 310,
     "status": "ok",
     "timestamp": 1647493926817,
     "user": {
      "displayName": "Mythreyi Velmurugan",
      "photoUrl": "https://lh3.googleusercontent.com/a-/AOh14Ggmo3ZwNw7WahbpkVzVLN5i6jFbk-vO0eV7keYsmQ=s64",
      "userId": "09509504425224260690"
     },
     "user_tz": -600
    },
    "id": "K24AGuxDNzfw"
   },
   "outputs": [],
   "source": [
    "# !pip install acv-exp"
   ]
  },
  {
   "cell_type": "code",
   "execution_count": 7,
   "metadata": {
    "executionInfo": {
     "elapsed": 543,
     "status": "ok",
     "timestamp": 1647493927842,
     "user": {
      "displayName": "Mythreyi Velmurugan",
      "photoUrl": "https://lh3.googleusercontent.com/a-/AOh14Ggmo3ZwNw7WahbpkVzVLN5i6jFbk-vO0eV7keYsmQ=s64",
      "userId": "09509504425224260690"
     },
     "user_tz": -600
    },
    "id": "JUIxPEXyapu7"
   },
   "outputs": [],
   "source": [
    "def get_reg_features(cls):\n",
    "\n",
    "    og_coef = cls.coef_\n",
    "    if len(og_coef.shape) > 1:\n",
    "        og_coef = og_coef[0]\n",
    "    \n",
    "    coef = [abs(val) for val in og_coef]\n",
    "    \n",
    "    bins = pd.cut(coef, 4, retbins = True, duplicates = \"drop\")\n",
    "    q1_min = bins[1][-2]\n",
    "    \n",
    "    feat_pos = [i for i in range(len(coef)) if coef[i] > q1_min]\n",
    "    \n",
    "    return feat_pos"
   ]
  },
  {
   "cell_type": "code",
   "execution_count": 8,
   "metadata": {
    "executionInfo": {
     "elapsed": 6,
     "status": "ok",
     "timestamp": 1647493927842,
     "user": {
      "displayName": "Mythreyi Velmurugan",
      "photoUrl": "https://lh3.googleusercontent.com/a-/AOh14Ggmo3ZwNw7WahbpkVzVLN5i6jFbk-vO0eV7keYsmQ=s64",
      "userId": "09509504425224260690"
     },
     "user_tz": -600
    },
    "id": "RocjYti5apu9"
   },
   "outputs": [],
   "source": [
    "def get_knn_features(cls, instance, X_train):\n",
    "    neighbours = cls.kneighbors(instance.reshape(1, -1), return_distance=False)[0]\n",
    "    neighbourhood = [X_train[i] for i in neighbours]\n",
    "    neighbourhood.append(instance)\n",
    "    \n",
    "    std = np.array(neighbourhood).std(0)\n",
    "    \n",
    "    bins = pd.cut(std, 4, retbins = True, duplicates = \"drop\")[1]\n",
    "    lim = bins[1]\n",
    "    \n",
    "    feat_pos = [i for i in range(len(std)) if std[i] <= lim]\n",
    "    \n",
    "    return feat_pos"
   ]
  },
  {
   "cell_type": "code",
   "execution_count": 9,
   "metadata": {
    "executionInfo": {
     "elapsed": 6,
     "status": "ok",
     "timestamp": 1647493927843,
     "user": {
      "displayName": "Mythreyi Velmurugan",
      "photoUrl": "https://lh3.googleusercontent.com/a-/AOh14Ggmo3ZwNw7WahbpkVzVLN5i6jFbk-vO0eV7keYsmQ=s64",
      "userId": "09509504425224260690"
     },
     "user_tz": -600
    },
    "id": "1THTivAQapu-"
   },
   "outputs": [],
   "source": [
    "def get_nb_features(cls, instance):\n",
    "    pred = cls.predict(instance.reshape(1, -1))\n",
    "    means = cls.theta_[pred][0]\n",
    "    std = np.sqrt(cls.var_[pred])[0]\n",
    "\n",
    "    likelihoods = []\n",
    "    \n",
    "    for i in range(len(means)):\n",
    "        lkhood = scipy.stats.norm(means[i], std[i]).logpdf(instance[i])\n",
    "        #likelihoods.append(abs(lkhood))\n",
    "        likelihoods.append(lkhood)\n",
    "    \n",
    "    bins = pd.cut(likelihoods, 4, retbins = True, duplicates = \"drop\")[1]\n",
    "    lim = bins[-2]\n",
    "    \n",
    "#     bins = pd.cut(likelihoods, 10, retbins = True, duplicates = \"drop\")[1]\n",
    "#     lim_1 = bins[-2]\n",
    "#     lim_2 = bins[1]\n",
    "    \n",
    "#     sortedls = sorted(likelihoods, reverse=True)\n",
    "#     pos = math.ceil(len(likelihoods)/4)\n",
    "#     lim = likelihoods[pos]\n",
    "    \n",
    "    feat_pos = [i for i in range(len(likelihoods)) if likelihoods[i] >= lim]# or likelihoods[i] <= lim_2]\n",
    "    \n",
    "    return(feat_pos)"
   ]
  },
  {
   "cell_type": "code",
   "execution_count": 10,
   "metadata": {
    "executionInfo": {
     "elapsed": 5,
     "status": "ok",
     "timestamp": 1647493927843,
     "user": {
      "displayName": "Mythreyi Velmurugan",
      "photoUrl": "https://lh3.googleusercontent.com/a-/AOh14Ggmo3ZwNw7WahbpkVzVLN5i6jFbk-vO0eV7keYsmQ=s64",
      "userId": "09509504425224260690"
     },
     "user_tz": -600
    },
    "id": "OpYOJjtVapu_"
   },
   "outputs": [],
   "source": [
    "def get_tree_features(cls, instance):\n",
    "    tree = cls.tree_\n",
    "    lvl = 0\n",
    "    left_child = tree.children_left[lvl]\n",
    "    right_child = tree.children_right[lvl]\n",
    "\n",
    "    feats = []\n",
    "    \n",
    "    while left_child != sklearn.tree._tree.TREE_LEAF and right_child != sklearn.tree._tree.TREE_LEAF:\n",
    "        feature = tree.feature[lvl]\n",
    "        feats.append(feature)\n",
    "        \n",
    "        if instance[feature] < tree.threshold[lvl]:\n",
    "            lvl = left_child\n",
    "        else:\n",
    "            lvl = right_child\n",
    "            \n",
    "        left_child = tree.children_left[lvl]\n",
    "        right_child = tree.children_right[lvl]\n",
    "            \n",
    "            \n",
    "    feat_pos = set(feats)\n",
    "    \n",
    "    return feat_pos"
   ]
  },
  {
   "cell_type": "code",
   "execution_count": 11,
   "metadata": {
    "executionInfo": {
     "elapsed": 5,
     "status": "ok",
     "timestamp": 1647493927843,
     "user": {
      "displayName": "Mythreyi Velmurugan",
      "photoUrl": "https://lh3.googleusercontent.com/a-/AOh14Ggmo3ZwNw7WahbpkVzVLN5i6jFbk-vO0eV7keYsmQ=s64",
      "userId": "09509504425224260690"
     },
     "user_tz": -600
    },
    "id": "DPtMAbfwapvA"
   },
   "outputs": [],
   "source": [
    "def get_path_depths(tree, feat_list, cur_depth = 0, lvl = 0, depths = []):\n",
    "\n",
    "    left_child = tree.children_left[lvl]\n",
    "    right_child = tree.children_right[lvl]\n",
    "    \n",
    "    if left_child == sklearn.tree._tree.TREE_LEAF:\n",
    "        depths.append(cur_depth)\n",
    "        \n",
    "    else:\n",
    "        depths = get_path_depths(tree, feat_list, cur_depth+1, left_child, depths)\n",
    "        depths = get_path_depths(tree, feat_list, cur_depth+1, right_child, depths)\n",
    "    return depths"
   ]
  },
  {
   "cell_type": "code",
   "execution_count": 12,
   "metadata": {
    "executionInfo": {
     "elapsed": 6,
     "status": "ok",
     "timestamp": 1647493927844,
     "user": {
      "displayName": "Mythreyi Velmurugan",
      "photoUrl": "https://lh3.googleusercontent.com/a-/AOh14Ggmo3ZwNw7WahbpkVzVLN5i6jFbk-vO0eV7keYsmQ=s64",
      "userId": "09509504425224260690"
     },
     "user_tz": -600
    },
    "id": "WB7Wr9gTapvB"
   },
   "outputs": [],
   "source": [
    "def get_shap_features(explainer, instance, cls, classification, exp_iter, feat_list):\n",
    "    \n",
    "    shap_exp = []\n",
    "    \n",
    "    pred = cls.predict(instance.reshape(1, -1))\n",
    "    \n",
    "    for i in range(exp_iter):\n",
    "        if type(explainer) == shap.explainers._tree.Tree:\n",
    "            exp = explainer(instance, check_additivity = False).values\n",
    "        else:\n",
    "            exp = explainer(instance.reshape(1, -1)).values\n",
    "        \n",
    "        #print(exp.shape)\n",
    "        #print(exp)\n",
    "        \n",
    "        if exp.shape == (1, len(feat_list), 2):\n",
    "            exp = exp[0]\n",
    "            \n",
    "        #print(exp.shape)\n",
    "        \n",
    "        if exp.shape == (len(feat_list), 2):\n",
    "            exp = np.array([feat[pred] for feat in exp]).reshape(len(feat_list))\n",
    "        elif exp.shape == (1, len(feat_list)) or exp.shape == (len(feat_list), 1):\n",
    "            exp = exp.reshape(len(feat_list))\n",
    "            \n",
    "        #print(np.array(exp).shape)\n",
    "            \n",
    "        shap_exp.append(exp)\n",
    "        \n",
    "    #print(np.array(shap_exp).shape)\n",
    "        \n",
    "    if np.array(shap_exp).shape != (exp_iter, len(feat_list)):\n",
    "        raise Exception(\"Explanation shape is not correct. It is\", np.array(shap_exp).shape, \"instead of the expected\", (exp_iter, len(feat_list)))\n",
    "    \n",
    "#     if classification==True, type(explainer) == shap.explainers._tree.Tree:\n",
    "#         shap_exp = []\n",
    "#         for each in full_exp:\n",
    "#             single_exp = [feat[0] for feat in each]\n",
    "#             shap_exp.append(single_exp)\n",
    "#     else:\n",
    "#         shap_exp = full_exp\n",
    "        \n",
    "    avg_val = np.average(shap_exp, axis = 0)\n",
    "    abs_val = [abs(val) for val in avg_val]\n",
    "    \n",
    "    #Get recall and precision for the average of shap values\n",
    "    bins = pd.cut(abs_val, 4, retbins = True, duplicates = \"drop\")\n",
    "    q1_min = bins[1][-2]\n",
    "\n",
    "    sorted_val = np.copy(abs_val)\n",
    "    sorted_val.sort()\n",
    "    \n",
    "    shap_features = [i for i in range(len(feat_list)) if abs_val[i] > q1_min]\n",
    "    \n",
    "    return shap_features"
   ]
  },
  {
   "cell_type": "code",
   "execution_count": 13,
   "metadata": {
    "executionInfo": {
     "elapsed": 6,
     "status": "ok",
     "timestamp": 1647493927844,
     "user": {
      "displayName": "Mythreyi Velmurugan",
      "photoUrl": "https://lh3.googleusercontent.com/a-/AOh14Ggmo3ZwNw7WahbpkVzVLN5i6jFbk-vO0eV7keYsmQ=s64",
      "userId": "09509504425224260690"
     },
     "user_tz": -600
    },
    "id": "sXu0zuNrapvD"
   },
   "outputs": [],
   "source": [
    "def get_lime_features(explainer, instance, cls, classification, exp_iter, feat_list):\n",
    "    lime_exp = []\n",
    "    \n",
    "    for i in range(exp_iter):\n",
    "        if classification==True:\n",
    "            lime_exp.extend(explainer.explain_instance(instance, cls.predict_proba, \n",
    "                                                num_features=len(feat_list), labels=[0,1]).as_list())\n",
    "        else:\n",
    "            lime_exp.extend(explainer.explain_instance(instance, cls.predict, \n",
    "                                                num_features=len(feat_list), labels=[0,1]).as_list())\n",
    "            \n",
    "    weights = [[] for each in feat_list]\n",
    "    for exp in lime_exp:\n",
    "        feat = exp[0]\n",
    "        if '<' in feat:\n",
    "            feat = exp[0].replace(\"= \",'')\n",
    "            parts = feat.split('<')\n",
    "        elif '>' in feat:\n",
    "            feat = exp[0].replace(\"= \",'')\n",
    "            parts = feat.split('>')\n",
    "        else:\n",
    "            parts = feat.split(\"=\")\n",
    "        \n",
    "        for part in parts:\n",
    "            if part.replace('.','').replace(' ','').isdigit()==False:\n",
    "                feat_name = part.replace(' ','')\n",
    "        n = feat_list.index(feat_name)\n",
    "        weights[n].append(exp[1])\n",
    "    \n",
    "    weights = np.transpose(weights)\n",
    "    avg_weight = np.average(np.array(weights), axis = 0)\n",
    "    abs_weight = [abs(weight) for weight in avg_weight]\n",
    "    \n",
    "    bins = pd.cut(abs_weight, 4, retbins = True, duplicates = \"drop\")\n",
    "    q1_min = bins[1][-2]\n",
    "    \n",
    "    sorted_weight = np.copy(abs_weight)\n",
    "    sorted_weight.sort()\n",
    "    \n",
    "    lime_features = [i for i in range(len(feat_list)) if abs_weight[i] >= q1_min]\n",
    "    \n",
    "    return lime_features"
   ]
  },
  {
   "cell_type": "code",
   "execution_count": 14,
   "metadata": {
    "executionInfo": {
     "elapsed": 5,
     "status": "ok",
     "timestamp": 1647493927844,
     "user": {
      "displayName": "Mythreyi Velmurugan",
      "photoUrl": "https://lh3.googleusercontent.com/a-/AOh14Ggmo3ZwNw7WahbpkVzVLN5i6jFbk-vO0eV7keYsmQ=s64",
      "userId": "09509504425224260690"
     },
     "user_tz": -600
    },
    "id": "CsLOYeO-apvE"
   },
   "outputs": [],
   "source": [
    "def get_linda_features(instance, cls, scaler, dataset, exp_iter, feat_list):\n",
    "    label_lst = [\"Negative\", \"Positive\"]\n",
    "    \n",
    "    feat_pos = []\n",
    "    lkhoods = []\n",
    "    \n",
    "    for i in range(exp_iter):\n",
    "        [bn, inference, infoBN] = generate_BN_explanations(instance, label_lst, feat_list, \"Result\", \n",
    "                                                                       None, scaler, cls, save_to+\"/\"+cls_method+\"/\", dataset, show_in_notebook = False)\n",
    "        \n",
    "        ie = pyAgrum.LazyPropagation(bn)\n",
    "        result_posterior = ie.posterior(bn.idFromName(\"Result\")).topandas()\n",
    "        result_proba = result_posterior.loc[\"Result\", label_lst[instance['predictions']]]\n",
    "        row = instance['original_vector']\n",
    "        #print(row)\n",
    "\n",
    "        likelihood = [0]*len(feat_list)\n",
    "\n",
    "        for j in range(len(feat_list)):\n",
    "            var_labels = bn.variable(feat_list[j]).labels()\n",
    "            str_bins = list(var_labels)\n",
    "            bins = []\n",
    "\n",
    "            for disc_bin in str_bins:\n",
    "                disc_bin = disc_bin.strip('\"(]')\n",
    "                cat = [float(val) for val in disc_bin.split(',')]\n",
    "                bins.append(cat)\n",
    "\n",
    "            for k in range(len(bins)):\n",
    "                if k == 0 and row[j] <= bins[k][0]:\n",
    "                    feat_bin = str_bins[k]\n",
    "                elif k == len(bins)-1 and row[j] >= bins[k][1]:\n",
    "                    feat_bin = str_bins[k]\n",
    "                elif row[j] > bins[k][0] and row[j] <= bins[k][1]:\n",
    "                    feat_bin = str_bins[k]\n",
    "\n",
    "            ie = pyAgrum.LazyPropagation(bn)\n",
    "            ie.setEvidence({feat_list[j]: feat_bin})\n",
    "            ie.makeInference()\n",
    "            \n",
    "            result_posterior = ie.posterior(bn.idFromName(\"Result\")).topandas()\n",
    "            new_proba = result_posterior.loc[\"Result\", label_lst[instance['predictions']]]\n",
    "            #print(result_proba, new_proba)\n",
    "            proba_change = result_proba-new_proba\n",
    "            likelihood[j] = abs(proba_change)\n",
    "\n",
    "        lkhoods.append(likelihood)\n",
    "        \n",
    "    bins = pd.cut(np.mean(lkhoods, axis=0), 4, retbins = True, duplicates = \"drop\")\n",
    "    q1_min = bins[1][-2]\n",
    "\n",
    "    #If fixing all features produces the same result for the class,\n",
    "    #return all features\n",
    "    if len(set(np.mean(lkhoods, axis=0)))==1:\n",
    "        feat_pos.extend(range(len(feat_list)))\n",
    "        print(lkhoods)\n",
    "    else:\n",
    "        feat_pos.extend(list(np.where(np.mean(lkhoods, axis=0) >= q1_min)[0]))\n",
    "\n",
    "    feat_pos = set(feat_pos)\n",
    "    #print(feat_pos)\n",
    "    \n",
    "    return feat_pos"
   ]
  },
  {
   "cell_type": "code",
   "execution_count": 15,
   "metadata": {
    "executionInfo": {
     "elapsed": 5,
     "status": "ok",
     "timestamp": 1647493927844,
     "user": {
      "displayName": "Mythreyi Velmurugan",
      "photoUrl": "https://lh3.googleusercontent.com/a-/AOh14Ggmo3ZwNw7WahbpkVzVLN5i6jFbk-vO0eV7keYsmQ=s64",
      "userId": "09509504425224260690"
     },
     "user_tz": -600
    },
    "id": "nxqKbpTLcjNS"
   },
   "outputs": [],
   "source": [
    "def get_acv_features(explainer, instance, cls, X_train, y_train, exp_iter):\n",
    "  instance = instance.reshape(1, -1)\n",
    "  y = cls.predict(instance)\n",
    "\n",
    "  feat_pos = []\n",
    "\n",
    "  for i in range(exp_iter):\n",
    "    sdp_importance, sdp_index, size, sdp = explainer.importance_sdp_rf(instance, y, X_train, y_train)\n",
    "    feat_pos.extend(sdp_index[0, :size[0]])\n",
    "\n",
    "  feat_pos = set(feat_pos)\n",
    "\n",
    "  return feat_pos"
   ]
  },
  {
   "cell_type": "code",
   "execution_count": 16,
   "metadata": {
    "executionInfo": {
     "elapsed": 6,
     "status": "ok",
     "timestamp": 1647493927845,
     "user": {
      "displayName": "Mythreyi Velmurugan",
      "photoUrl": "https://lh3.googleusercontent.com/a-/AOh14Ggmo3ZwNw7WahbpkVzVLN5i6jFbk-vO0eV7keYsmQ=s64",
      "userId": "09509504425224260690"
     },
     "user_tz": -600
    },
    "id": "aBi4uTnFapvG"
   },
   "outputs": [],
   "source": [
    "def get_explanation_features(explainer, instance, cls, scaler, dataset, classification, exp_iter, xai_method, feat_list, X_train, y_train):\n",
    "    if xai_method == \"SHAP\":\n",
    "        feat_pos = get_shap_features(explainer, instance, cls, classification, exp_iter, feat_list)\n",
    "        \n",
    "    elif xai_method == \"LIME\":\n",
    "        feat_pos = get_lime_features(explainer, instance, cls, classification, exp_iter, feat_list)\n",
    "        \n",
    "    elif xai_method == \"LINDA\":\n",
    "        feat_pos = get_linda_features(instance, cls, scaler, dataset, exp_iter, feat_list)\n",
    "\n",
    "    elif xai_method == \"ACV\":\n",
    "        feat_pos = get_acv_features(explainer, instance, cls, X_train, y_train, exp_iter)\n",
    "        \n",
    "    explanation_features = [feat_list[i] for i in feat_pos]\n",
    "    explanation_features = set(explanation_features)\n",
    "        \n",
    "    return explanation_features"
   ]
  },
  {
   "cell_type": "code",
   "execution_count": 17,
   "metadata": {
    "executionInfo": {
     "elapsed": 415,
     "status": "ok",
     "timestamp": 1647493946467,
     "user": {
      "displayName": "Mythreyi Velmurugan",
      "photoUrl": "https://lh3.googleusercontent.com/a-/AOh14Ggmo3ZwNw7WahbpkVzVLN5i6jFbk-vO0eV7keYsmQ=s64",
      "userId": "09509504425224260690"
     },
     "user_tz": -600
    },
    "id": "x6zVKTJDapvI"
   },
   "outputs": [],
   "source": [
    "def get_true_features(cls, instance, cls_method, X_train, feat_list):\n",
    "    if cls_method == \"decision_tree\":\n",
    "        feat_pos = get_tree_features(cls, instance)\n",
    "        \n",
    "    elif cls_method == \"logit\" or cls_method == \"lin_reg\":\n",
    "        feat_pos = get_reg_features(cls)\n",
    "        \n",
    "    elif cls_method == \"knn\":\n",
    "        feat_pos = get_knn_features(cls, instance, X_train)\n",
    "    \n",
    "    elif cls_method == \"nb\":\n",
    "        feat_pos = get_nb_features(cls, instance)\n",
    "        \n",
    "    true_features = [feat_list[i] for i in feat_pos]\n",
    "    true_features = set(true_features)\n",
    "    \n",
    "    #print(feat_pos)\n",
    "    \n",
    "    return true_features"
   ]
  },
  {
   "cell_type": "code",
   "execution_count": 18,
   "metadata": {
    "executionInfo": {
     "elapsed": 301,
     "status": "ok",
     "timestamp": 1647493992551,
     "user": {
      "displayName": "Mythreyi Velmurugan",
      "photoUrl": "https://lh3.googleusercontent.com/a-/AOh14Ggmo3ZwNw7WahbpkVzVLN5i6jFbk-vO0eV7keYsmQ=s64",
      "userId": "09509504425224260690"
     },
     "user_tz": -600
    },
    "id": "-yN3tWnbapvJ"
   },
   "outputs": [],
   "source": [
    "# path to project folder\n",
    "# please change to your own\n",
    "PATH = os.getcwd()\n",
    "\n",
    "dataset = \"bike_sharing\"\n",
    "cls_method = \"decision_tree\"\n",
    "\n",
    "classification = False\n",
    "xai_method = \"SHAP\"\n",
    "\n",
    "random_state = 22\n",
    "exp_iter = 10\n",
    "\n",
    "save_to = \"%s/%s/\" % (PATH, dataset)\n",
    "dataset_folder = \"%s/datasets/\" % (save_to)\n",
    "final_folder = \"%s/%s/\" % (save_to, cls_method)\n",
    "\n",
    "#Get datasets\n",
    "X_train = pd.read_csv(dataset_folder+dataset+\"_Xtrain.csv\", index_col=False, sep = \";\")\n",
    "y_train = pd.read_csv(dataset_folder+dataset+\"_Ytrain.csv\", index_col=False, sep = \";\")\n",
    "test_x = pd.read_csv(final_folder+\"test_sample.csv\", index_col=False, sep = \";\").values\n",
    "results = pd.read_csv(os.path.join(final_folder,\"results.csv\"), index_col=False, sep = \";\")\n",
    "actual = results[\"Actual\"].values\n",
    "\n",
    "with open(dataset_folder+\"col_dict.json\", \"r\") as f:\n",
    "    col_dict = json.load(f)\n",
    "f.close()\n",
    "\n",
    "feat_list = [each.replace(' ','_') for each in X_train.columns]"
   ]
  },
  {
   "cell_type": "code",
   "execution_count": 19,
   "metadata": {
    "executionInfo": {
     "elapsed": 7,
     "status": "ok",
     "timestamp": 1647493993237,
     "user": {
      "displayName": "Mythreyi Velmurugan",
      "photoUrl": "https://lh3.googleusercontent.com/a-/AOh14Ggmo3ZwNw7WahbpkVzVLN5i6jFbk-vO0eV7keYsmQ=s64",
      "userId": "09509504425224260690"
     },
     "user_tz": -600
    },
    "id": "ru19m0HzapvJ"
   },
   "outputs": [],
   "source": [
    "cls = joblib.load(save_to+cls_method+\"/cls.joblib\")\n",
    "scaler = joblib.load(save_to+\"/scaler.joblib\")"
   ]
  },
  {
   "cell_type": "code",
   "execution_count": 20,
   "metadata": {
    "colab": {
     "base_uri": "https://localhost:8080/"
    },
    "executionInfo": {
     "elapsed": 7,
     "status": "ok",
     "timestamp": 1647493993237,
     "user": {
      "displayName": "Mythreyi Velmurugan",
      "photoUrl": "https://lh3.googleusercontent.com/a-/AOh14Ggmo3ZwNw7WahbpkVzVLN5i6jFbk-vO0eV7keYsmQ=s64",
      "userId": "09509504425224260690"
     },
     "user_tz": -600
    },
    "id": "ZkrPjRTNNzf1",
    "outputId": "a4969e9e-a8f0-4dfe-8b4a-b394192c6d46"
   },
   "outputs": [
    {
     "name": "stdout",
     "output_type": "stream",
     "text": [
      "<class 'sklearn.tree._classes.DecisionTreeRegressor'>\n"
     ]
    }
   ],
   "source": [
    "print(type(cls))"
   ]
  },
  {
   "cell_type": "code",
   "execution_count": 21,
   "metadata": {
    "colab": {
     "base_uri": "https://localhost:8080/",
     "height": 865
    },
    "executionInfo": {
     "elapsed": 7,
     "status": "ok",
     "timestamp": 1647493993238,
     "user": {
      "displayName": "Mythreyi Velmurugan",
      "photoUrl": "https://lh3.googleusercontent.com/a-/AOh14Ggmo3ZwNw7WahbpkVzVLN5i6jFbk-vO0eV7keYsmQ=s64",
      "userId": "09509504425224260690"
     },
     "user_tz": -600
    },
    "id": "t8pPLTG2apvK",
    "outputId": "ce391f72-2763-4309-9ad4-7c54b191bbcb"
   },
   "outputs": [
    {
     "data": {
      "text/html": [
       "<div>\n",
       "<style scoped>\n",
       "    .dataframe tbody tr th:only-of-type {\n",
       "        vertical-align: middle;\n",
       "    }\n",
       "\n",
       "    .dataframe tbody tr th {\n",
       "        vertical-align: top;\n",
       "    }\n",
       "\n",
       "    .dataframe thead th {\n",
       "        text-align: right;\n",
       "    }\n",
       "</style>\n",
       "<table border=\"1\" class=\"dataframe\">\n",
       "  <thead>\n",
       "    <tr style=\"text-align: right;\">\n",
       "      <th></th>\n",
       "      <th>Actual</th>\n",
       "      <th>Prediction</th>\n",
       "      <th>LIME Precision</th>\n",
       "      <th>LIME Recall</th>\n",
       "      <th>SHAP Precision</th>\n",
       "      <th>SHAP Recall</th>\n",
       "      <th>ACV Precision</th>\n",
       "      <th>ACV Recall</th>\n",
       "    </tr>\n",
       "  </thead>\n",
       "  <tbody>\n",
       "    <tr>\n",
       "      <th>0</th>\n",
       "      <td>531</td>\n",
       "      <td>384.0</td>\n",
       "      <td>1.000000</td>\n",
       "      <td>0.166667</td>\n",
       "      <td>1.0</td>\n",
       "      <td>0.033333</td>\n",
       "      <td>1.000000</td>\n",
       "      <td>0.233333</td>\n",
       "    </tr>\n",
       "    <tr>\n",
       "      <th>1</th>\n",
       "      <td>93</td>\n",
       "      <td>60.5</td>\n",
       "      <td>1.000000</td>\n",
       "      <td>0.466667</td>\n",
       "      <td>1.0</td>\n",
       "      <td>0.066667</td>\n",
       "      <td>0.714286</td>\n",
       "      <td>0.333333</td>\n",
       "    </tr>\n",
       "    <tr>\n",
       "      <th>2</th>\n",
       "      <td>2</td>\n",
       "      <td>7.0</td>\n",
       "      <td>0.625000</td>\n",
       "      <td>0.416667</td>\n",
       "      <td>1.0</td>\n",
       "      <td>0.083333</td>\n",
       "      <td>0.666667</td>\n",
       "      <td>0.333333</td>\n",
       "    </tr>\n",
       "    <tr>\n",
       "      <th>3</th>\n",
       "      <td>173</td>\n",
       "      <td>154.5</td>\n",
       "      <td>1.000000</td>\n",
       "      <td>0.200000</td>\n",
       "      <td>1.0</td>\n",
       "      <td>0.033333</td>\n",
       "      <td>0.857143</td>\n",
       "      <td>0.200000</td>\n",
       "    </tr>\n",
       "    <tr>\n",
       "      <th>4</th>\n",
       "      <td>254</td>\n",
       "      <td>401.0</td>\n",
       "      <td>1.000000</td>\n",
       "      <td>0.222222</td>\n",
       "      <td>1.0</td>\n",
       "      <td>0.037037</td>\n",
       "      <td>0.857143</td>\n",
       "      <td>0.222222</td>\n",
       "    </tr>\n",
       "    <tr>\n",
       "      <th>...</th>\n",
       "      <td>...</td>\n",
       "      <td>...</td>\n",
       "      <td>...</td>\n",
       "      <td>...</td>\n",
       "      <td>...</td>\n",
       "      <td>...</td>\n",
       "      <td>...</td>\n",
       "      <td>...</td>\n",
       "    </tr>\n",
       "    <tr>\n",
       "      <th>95</th>\n",
       "      <td>111</td>\n",
       "      <td>332.0</td>\n",
       "      <td>1.000000</td>\n",
       "      <td>0.208333</td>\n",
       "      <td>1.0</td>\n",
       "      <td>0.083333</td>\n",
       "      <td>0.666667</td>\n",
       "      <td>0.250000</td>\n",
       "    </tr>\n",
       "    <tr>\n",
       "      <th>96</th>\n",
       "      <td>72</td>\n",
       "      <td>68.5</td>\n",
       "      <td>1.000000</td>\n",
       "      <td>0.214286</td>\n",
       "      <td>1.0</td>\n",
       "      <td>0.035714</td>\n",
       "      <td>1.000000</td>\n",
       "      <td>0.250000</td>\n",
       "    </tr>\n",
       "    <tr>\n",
       "      <th>97</th>\n",
       "      <td>331</td>\n",
       "      <td>292.0</td>\n",
       "      <td>1.000000</td>\n",
       "      <td>0.320000</td>\n",
       "      <td>1.0</td>\n",
       "      <td>0.040000</td>\n",
       "      <td>0.875000</td>\n",
       "      <td>0.280000</td>\n",
       "    </tr>\n",
       "    <tr>\n",
       "      <th>98</th>\n",
       "      <td>8</td>\n",
       "      <td>3.0</td>\n",
       "      <td>0.250000</td>\n",
       "      <td>0.250000</td>\n",
       "      <td>1.0</td>\n",
       "      <td>0.125000</td>\n",
       "      <td>0.125000</td>\n",
       "      <td>0.125000</td>\n",
       "    </tr>\n",
       "    <tr>\n",
       "      <th>99</th>\n",
       "      <td>304</td>\n",
       "      <td>45.0</td>\n",
       "      <td>0.571429</td>\n",
       "      <td>0.285714</td>\n",
       "      <td>1.0</td>\n",
       "      <td>0.142857</td>\n",
       "      <td>0.500000</td>\n",
       "      <td>0.285714</td>\n",
       "    </tr>\n",
       "  </tbody>\n",
       "</table>\n",
       "<p>100 rows × 8 columns</p>\n",
       "</div>"
      ],
      "text/plain": [
       "    Actual  Prediction  LIME Precision  LIME Recall  SHAP Precision  \\\n",
       "0      531       384.0        1.000000     0.166667             1.0   \n",
       "1       93        60.5        1.000000     0.466667             1.0   \n",
       "2        2         7.0        0.625000     0.416667             1.0   \n",
       "3      173       154.5        1.000000     0.200000             1.0   \n",
       "4      254       401.0        1.000000     0.222222             1.0   \n",
       "..     ...         ...             ...          ...             ...   \n",
       "95     111       332.0        1.000000     0.208333             1.0   \n",
       "96      72        68.5        1.000000     0.214286             1.0   \n",
       "97     331       292.0        1.000000     0.320000             1.0   \n",
       "98       8         3.0        0.250000     0.250000             1.0   \n",
       "99     304        45.0        0.571429     0.285714             1.0   \n",
       "\n",
       "    SHAP Recall  ACV Precision  ACV Recall  \n",
       "0      0.033333       1.000000    0.233333  \n",
       "1      0.066667       0.714286    0.333333  \n",
       "2      0.083333       0.666667    0.333333  \n",
       "3      0.033333       0.857143    0.200000  \n",
       "4      0.037037       0.857143    0.222222  \n",
       "..          ...            ...         ...  \n",
       "95     0.083333       0.666667    0.250000  \n",
       "96     0.035714       1.000000    0.250000  \n",
       "97     0.040000       0.875000    0.280000  \n",
       "98     0.125000       0.125000    0.125000  \n",
       "99     0.142857       0.500000    0.285714  \n",
       "\n",
       "[100 rows x 8 columns]"
      ]
     },
     "execution_count": 21,
     "metadata": {},
     "output_type": "execute_result"
    }
   ],
   "source": [
    "results"
   ]
  },
  {
   "cell_type": "code",
   "execution_count": 22,
   "metadata": {
    "executionInfo": {
     "elapsed": 6,
     "status": "ok",
     "timestamp": 1647493993238,
     "user": {
      "displayName": "Mythreyi Velmurugan",
      "photoUrl": "https://lh3.googleusercontent.com/a-/AOh14Ggmo3ZwNw7WahbpkVzVLN5i6jFbk-vO0eV7keYsmQ=s64",
      "userId": "09509504425224260690"
     },
     "user_tz": -600
    },
    "id": "SQTCEUwbapvK"
   },
   "outputs": [
    {
     "name": "stdout",
     "output_type": "stream",
     "text": [
      "<class 'shap.explainers._tree.Tree'>\n"
     ]
    }
   ],
   "source": [
    "if xai_method == \"SHAP\":\n",
    "  #  explainer = shap.explainers._permutation.Permutation(cls.predict_proba, X_train)\n",
    "    if cls_method == \"xgboost\" or cls_method == \"decision_tree\":\n",
    "        explainer = shap.Explainer(cls)\n",
    "    elif cls_method == \"nb\":\n",
    "        if classification:\n",
    "            masker = shap.maskers._tabular.Independent(X_train.values, len(X_train))\n",
    "            explainer = shap.Explainer(cls.predict_proba, masker)\n",
    "        else:\n",
    "            print(\"NB is classification only\")\n",
    "    elif cls_method == \"logit\" or cls_method == \"lin_reg\":\n",
    "        masker = shap.maskers._tabular.Independent(X_train.values, len(X_train))\n",
    "        explainer = shap.Explainer(cls, masker)\n",
    "    else:\n",
    "        explainer = shap.Explainer(cls, X_train)\n",
    "    print(type(explainer))\n",
    "    \n",
    "elif xai_method == \"LIME\":\n",
    "    if col_dict['discrete'] != None:\n",
    "        cat_cols = [each.replace(' ','_') for each in col_dict['discrete']]\n",
    "        col_inds = [feat_list.index(each) for each in cat_cols]\n",
    "    else:\n",
    "        col_inds = []\n",
    "    \n",
    "    if classification==True:\n",
    "        class_names=['Negative','Positive']# negative is 0, positive is 1, 0 is left, 1 is right\n",
    "        explainer = lime.lime_tabular.LimeTabularExplainer(X_train.values, feature_names = feat_list, \n",
    "                                                            class_names=class_names, categorical_features = col_inds,\n",
    "                                                            discretize_continuous=False)\n",
    "    else:\n",
    "        class_names = ['Final Value']\n",
    "        explainer = lime.lime_tabular.LimeTabularExplainer(X_train.values, feature_names = feat_list, \n",
    "                                                           class_names=class_names, discretize_continuous=True, \n",
    "                                                           categorical_features = col_inds, mode = \"regression\")\n",
    "        \n",
    "elif xai_method == \"LINDA\":\n",
    "    test_dict = generate_local_predictions( test_x, results[\"Actual\"].values, cls, scaler, None )\n",
    "#    feat_list = feat_list+[\"Result\"]\n",
    "\n",
    "    explainer = None\n",
    "\n",
    "elif xai_method == \"ACV\":\n",
    "    explainer = joblib.load(save_to+cls_method+\"/acv_explainer.joblib\")"
   ]
  },
  {
   "cell_type": "code",
   "execution_count": 23,
   "metadata": {
    "colab": {
     "base_uri": "https://localhost:8080/",
     "height": 1000,
     "referenced_widgets": [
      "a81712ac2ac14e5985b2fc7941b3bd30",
      "63a0e5d43ed1455e9d52c2948985ec63",
      "29828f9cda034630b0ee0f8881c38f9a",
      "254f12685809432c8b3990134fdc0681",
      "db7a683a288d419f852d87935a29997e",
      "3a45728e4b8646779dba75d89096f1a8",
      "96b50d66299d4c22b73405bc9a3f9579",
      "b7404773f76b400494957139d068592f",
      "e7725236fce944f384e72836720a2524",
      "e98fc36b054a42e19570c41882a4e0c6",
      "100bb41e9af843d4a42def950d2ce068"
     ]
    },
    "executionInfo": {
     "elapsed": 7952,
     "status": "ok",
     "timestamp": 1647494001184,
     "user": {
      "displayName": "Mythreyi Velmurugan",
      "photoUrl": "https://lh3.googleusercontent.com/a-/AOh14Ggmo3ZwNw7WahbpkVzVLN5i6jFbk-vO0eV7keYsmQ=s64",
      "userId": "09509504425224260690"
     },
     "user_tz": -600
    },
    "id": "7fdVtAlhapvL",
    "outputId": "057d3dc6-eef2-4f97-a21a-607466c50088",
    "scrolled": true
   },
   "outputs": [
    {
     "data": {
      "application/vnd.jupyter.widget-view+json": {
       "model_id": "0d9585a2b553490f8be9fddc6ebdee12",
       "version_major": 2,
       "version_minor": 0
      },
      "text/plain": [
       "HBox(children=(FloatProgress(value=0.0), HTML(value='')))"
      ]
     },
     "metadata": {},
     "output_type": "display_data"
    },
    {
     "name": "stdout",
     "output_type": "stream",
     "text": [
      "\n"
     ]
    }
   ],
   "source": [
    "compiled_precision = []\n",
    "compiled_recall = []\n",
    "\n",
    "for i in tqdm_notebook(range(len(test_x))):\n",
    "    instance = test_x[i]\n",
    "    true_features = get_true_features(cls, instance, cls_method, X_train.values, feat_list)\n",
    "    \n",
    "    if xai_method == \"LINDA\":\n",
    "        instance = test_dict[i]\n",
    "    \n",
    "    explanation_features = get_explanation_features(explainer, instance, cls, scaler, dataset, classification, exp_iter, xai_method, \n",
    "                                                    feat_list, X_train.values, y_train)\n",
    "    \n",
    "    #print(\"True Features: \", true_features)\n",
    "    #print(\"Explanation Features: \", explanation_features)\n",
    "    \n",
    "    if len(explanation_features) == 0:\n",
    "        recall = 0\n",
    "        precision = 0\n",
    "    else:\n",
    "        recall = len(true_features.intersection(explanation_features))/len(true_features)\n",
    "        precision = len(true_features.intersection(explanation_features))/len(explanation_features)\n",
    "    \n",
    "    compiled_precision.append(precision)\n",
    "    compiled_recall.append(recall)\n",
    "    \n",
    "results[xai_method+\" Precision\"] = compiled_precision\n",
    "results[xai_method+\" Recall\"] = compiled_recall"
   ]
  },
  {
   "cell_type": "code",
   "execution_count": 24,
   "metadata": {
    "colab": {
     "base_uri": "https://localhost:8080/"
    },
    "executionInfo": {
     "elapsed": 7,
     "status": "ok",
     "timestamp": 1647494001184,
     "user": {
      "displayName": "Mythreyi Velmurugan",
      "photoUrl": "https://lh3.googleusercontent.com/a-/AOh14Ggmo3ZwNw7WahbpkVzVLN5i6jFbk-vO0eV7keYsmQ=s64",
      "userId": "09509504425224260690"
     },
     "user_tz": -600
    },
    "id": "21ykq7QaapvM",
    "outputId": "163f2d0a-9903-4b96-986e-b1c03844004a"
   },
   "outputs": [
    {
     "data": {
      "text/plain": [
       "shap.explainers._tree.Tree"
      ]
     },
     "execution_count": 24,
     "metadata": {},
     "output_type": "execute_result"
    }
   ],
   "source": [
    "type(explainer)"
   ]
  },
  {
   "cell_type": "code",
   "execution_count": 25,
   "metadata": {
    "colab": {
     "base_uri": "https://localhost:8080/"
    },
    "executionInfo": {
     "elapsed": 5,
     "status": "ok",
     "timestamp": 1647494001184,
     "user": {
      "displayName": "Mythreyi Velmurugan",
      "photoUrl": "https://lh3.googleusercontent.com/a-/AOh14Ggmo3ZwNw7WahbpkVzVLN5i6jFbk-vO0eV7keYsmQ=s64",
      "userId": "09509504425224260690"
     },
     "user_tz": -600
    },
    "id": "SyywooFsapvM",
    "outputId": "ccbf5413-3d2e-4536-8247-a3a01e26944e"
   },
   "outputs": [
    {
     "data": {
      "text/plain": [
       "{'hr_1',\n",
       " 'hr_19',\n",
       " 'hr_3',\n",
       " 'hr_4',\n",
       " 'hr_5',\n",
       " 'hr_8',\n",
       " 'hum',\n",
       " 'mnth_10',\n",
       " 'mnth_12',\n",
       " 'mnth_4',\n",
       " 'mnth_8',\n",
       " 'temp',\n",
       " 'weathersit_3',\n",
       " 'weekday_3'}"
      ]
     },
     "execution_count": 25,
     "metadata": {},
     "output_type": "execute_result"
    }
   ],
   "source": [
    "true_features"
   ]
  },
  {
   "cell_type": "code",
   "execution_count": 26,
   "metadata": {
    "colab": {
     "base_uri": "https://localhost:8080/"
    },
    "executionInfo": {
     "elapsed": 4,
     "status": "ok",
     "timestamp": 1647494001184,
     "user": {
      "displayName": "Mythreyi Velmurugan",
      "photoUrl": "https://lh3.googleusercontent.com/a-/AOh14Ggmo3ZwNw7WahbpkVzVLN5i6jFbk-vO0eV7keYsmQ=s64",
      "userId": "09509504425224260690"
     },
     "user_tz": -600
    },
    "id": "LSEd_z3SapvN",
    "outputId": "abb49720-888e-4849-e36c-adb566f37d66"
   },
   "outputs": [
    {
     "data": {
      "text/plain": [
       "0.07142857142857142"
      ]
     },
     "execution_count": 26,
     "metadata": {},
     "output_type": "execute_result"
    }
   ],
   "source": [
    "recall"
   ]
  },
  {
   "cell_type": "code",
   "execution_count": 27,
   "metadata": {
    "colab": {
     "base_uri": "https://localhost:8080/"
    },
    "executionInfo": {
     "elapsed": 12,
     "status": "ok",
     "timestamp": 1647494001528,
     "user": {
      "displayName": "Mythreyi Velmurugan",
      "photoUrl": "https://lh3.googleusercontent.com/a-/AOh14Ggmo3ZwNw7WahbpkVzVLN5i6jFbk-vO0eV7keYsmQ=s64",
      "userId": "09509504425224260690"
     },
     "user_tz": -600
    },
    "id": "Xc00SNhLapvN",
    "outputId": "a902d6cc-7483-4a23-adc1-466e46e73e5c"
   },
   "outputs": [
    {
     "data": {
      "text/plain": [
       "{'hum'}"
      ]
     },
     "execution_count": 27,
     "metadata": {},
     "output_type": "execute_result"
    }
   ],
   "source": [
    "explanation_features"
   ]
  },
  {
   "cell_type": "code",
   "execution_count": 28,
   "metadata": {
    "colab": {
     "base_uri": "https://localhost:8080/"
    },
    "executionInfo": {
     "elapsed": 12,
     "status": "ok",
     "timestamp": 1647494001529,
     "user": {
      "displayName": "Mythreyi Velmurugan",
      "photoUrl": "https://lh3.googleusercontent.com/a-/AOh14Ggmo3ZwNw7WahbpkVzVLN5i6jFbk-vO0eV7keYsmQ=s64",
      "userId": "09509504425224260690"
     },
     "user_tz": -600
    },
    "id": "omuDCa-17awb",
    "outputId": "577a18e7-e9bd-4377-9e52-edb6dba14ca1"
   },
   "outputs": [
    {
     "data": {
      "text/plain": [
       "{'hr_1',\n",
       " 'hr_19',\n",
       " 'hr_3',\n",
       " 'hr_4',\n",
       " 'hr_5',\n",
       " 'hr_8',\n",
       " 'hum',\n",
       " 'mnth_10',\n",
       " 'mnth_12',\n",
       " 'mnth_4',\n",
       " 'mnth_8',\n",
       " 'temp',\n",
       " 'weathersit_3',\n",
       " 'weekday_3'}"
      ]
     },
     "execution_count": 28,
     "metadata": {},
     "output_type": "execute_result"
    }
   ],
   "source": [
    "true_features"
   ]
  },
  {
   "cell_type": "code",
   "execution_count": 29,
   "metadata": {
    "colab": {
     "base_uri": "https://localhost:8080/",
     "height": 865
    },
    "executionInfo": {
     "elapsed": 10,
     "status": "ok",
     "timestamp": 1647494001529,
     "user": {
      "displayName": "Mythreyi Velmurugan",
      "photoUrl": "https://lh3.googleusercontent.com/a-/AOh14Ggmo3ZwNw7WahbpkVzVLN5i6jFbk-vO0eV7keYsmQ=s64",
      "userId": "09509504425224260690"
     },
     "user_tz": -600
    },
    "id": "WI5Nz7XjapvO",
    "outputId": "1c0088a2-8aa8-4526-cc75-47ab0aa56cca",
    "scrolled": false
   },
   "outputs": [
    {
     "data": {
      "text/html": [
       "<div>\n",
       "<style scoped>\n",
       "    .dataframe tbody tr th:only-of-type {\n",
       "        vertical-align: middle;\n",
       "    }\n",
       "\n",
       "    .dataframe tbody tr th {\n",
       "        vertical-align: top;\n",
       "    }\n",
       "\n",
       "    .dataframe thead th {\n",
       "        text-align: right;\n",
       "    }\n",
       "</style>\n",
       "<table border=\"1\" class=\"dataframe\">\n",
       "  <thead>\n",
       "    <tr style=\"text-align: right;\">\n",
       "      <th></th>\n",
       "      <th>Actual</th>\n",
       "      <th>Prediction</th>\n",
       "      <th>LIME Precision</th>\n",
       "      <th>LIME Recall</th>\n",
       "      <th>SHAP Precision</th>\n",
       "      <th>SHAP Recall</th>\n",
       "      <th>ACV Precision</th>\n",
       "      <th>ACV Recall</th>\n",
       "    </tr>\n",
       "  </thead>\n",
       "  <tbody>\n",
       "    <tr>\n",
       "      <th>0</th>\n",
       "      <td>531</td>\n",
       "      <td>384.0</td>\n",
       "      <td>1.000000</td>\n",
       "      <td>0.166667</td>\n",
       "      <td>1.0</td>\n",
       "      <td>0.066667</td>\n",
       "      <td>1.000000</td>\n",
       "      <td>0.233333</td>\n",
       "    </tr>\n",
       "    <tr>\n",
       "      <th>1</th>\n",
       "      <td>93</td>\n",
       "      <td>60.5</td>\n",
       "      <td>1.000000</td>\n",
       "      <td>0.466667</td>\n",
       "      <td>1.0</td>\n",
       "      <td>0.066667</td>\n",
       "      <td>0.714286</td>\n",
       "      <td>0.333333</td>\n",
       "    </tr>\n",
       "    <tr>\n",
       "      <th>2</th>\n",
       "      <td>2</td>\n",
       "      <td>7.0</td>\n",
       "      <td>0.625000</td>\n",
       "      <td>0.416667</td>\n",
       "      <td>1.0</td>\n",
       "      <td>0.083333</td>\n",
       "      <td>0.666667</td>\n",
       "      <td>0.333333</td>\n",
       "    </tr>\n",
       "    <tr>\n",
       "      <th>3</th>\n",
       "      <td>173</td>\n",
       "      <td>154.5</td>\n",
       "      <td>1.000000</td>\n",
       "      <td>0.200000</td>\n",
       "      <td>1.0</td>\n",
       "      <td>0.033333</td>\n",
       "      <td>0.857143</td>\n",
       "      <td>0.200000</td>\n",
       "    </tr>\n",
       "    <tr>\n",
       "      <th>4</th>\n",
       "      <td>254</td>\n",
       "      <td>401.0</td>\n",
       "      <td>1.000000</td>\n",
       "      <td>0.222222</td>\n",
       "      <td>1.0</td>\n",
       "      <td>0.111111</td>\n",
       "      <td>0.857143</td>\n",
       "      <td>0.222222</td>\n",
       "    </tr>\n",
       "    <tr>\n",
       "      <th>...</th>\n",
       "      <td>...</td>\n",
       "      <td>...</td>\n",
       "      <td>...</td>\n",
       "      <td>...</td>\n",
       "      <td>...</td>\n",
       "      <td>...</td>\n",
       "      <td>...</td>\n",
       "      <td>...</td>\n",
       "    </tr>\n",
       "    <tr>\n",
       "      <th>95</th>\n",
       "      <td>111</td>\n",
       "      <td>332.0</td>\n",
       "      <td>1.000000</td>\n",
       "      <td>0.208333</td>\n",
       "      <td>1.0</td>\n",
       "      <td>0.041667</td>\n",
       "      <td>0.666667</td>\n",
       "      <td>0.250000</td>\n",
       "    </tr>\n",
       "    <tr>\n",
       "      <th>96</th>\n",
       "      <td>72</td>\n",
       "      <td>68.5</td>\n",
       "      <td>1.000000</td>\n",
       "      <td>0.214286</td>\n",
       "      <td>1.0</td>\n",
       "      <td>0.035714</td>\n",
       "      <td>1.000000</td>\n",
       "      <td>0.250000</td>\n",
       "    </tr>\n",
       "    <tr>\n",
       "      <th>97</th>\n",
       "      <td>331</td>\n",
       "      <td>292.0</td>\n",
       "      <td>1.000000</td>\n",
       "      <td>0.320000</td>\n",
       "      <td>1.0</td>\n",
       "      <td>0.080000</td>\n",
       "      <td>0.875000</td>\n",
       "      <td>0.280000</td>\n",
       "    </tr>\n",
       "    <tr>\n",
       "      <th>98</th>\n",
       "      <td>8</td>\n",
       "      <td>3.0</td>\n",
       "      <td>0.250000</td>\n",
       "      <td>0.250000</td>\n",
       "      <td>1.0</td>\n",
       "      <td>0.125000</td>\n",
       "      <td>0.125000</td>\n",
       "      <td>0.125000</td>\n",
       "    </tr>\n",
       "    <tr>\n",
       "      <th>99</th>\n",
       "      <td>304</td>\n",
       "      <td>45.0</td>\n",
       "      <td>0.571429</td>\n",
       "      <td>0.285714</td>\n",
       "      <td>1.0</td>\n",
       "      <td>0.071429</td>\n",
       "      <td>0.500000</td>\n",
       "      <td>0.285714</td>\n",
       "    </tr>\n",
       "  </tbody>\n",
       "</table>\n",
       "<p>100 rows × 8 columns</p>\n",
       "</div>"
      ],
      "text/plain": [
       "    Actual  Prediction  LIME Precision  LIME Recall  SHAP Precision  \\\n",
       "0      531       384.0        1.000000     0.166667             1.0   \n",
       "1       93        60.5        1.000000     0.466667             1.0   \n",
       "2        2         7.0        0.625000     0.416667             1.0   \n",
       "3      173       154.5        1.000000     0.200000             1.0   \n",
       "4      254       401.0        1.000000     0.222222             1.0   \n",
       "..     ...         ...             ...          ...             ...   \n",
       "95     111       332.0        1.000000     0.208333             1.0   \n",
       "96      72        68.5        1.000000     0.214286             1.0   \n",
       "97     331       292.0        1.000000     0.320000             1.0   \n",
       "98       8         3.0        0.250000     0.250000             1.0   \n",
       "99     304        45.0        0.571429     0.285714             1.0   \n",
       "\n",
       "    SHAP Recall  ACV Precision  ACV Recall  \n",
       "0      0.066667       1.000000    0.233333  \n",
       "1      0.066667       0.714286    0.333333  \n",
       "2      0.083333       0.666667    0.333333  \n",
       "3      0.033333       0.857143    0.200000  \n",
       "4      0.111111       0.857143    0.222222  \n",
       "..          ...            ...         ...  \n",
       "95     0.041667       0.666667    0.250000  \n",
       "96     0.035714       1.000000    0.250000  \n",
       "97     0.080000       0.875000    0.280000  \n",
       "98     0.125000       0.125000    0.125000  \n",
       "99     0.071429       0.500000    0.285714  \n",
       "\n",
       "[100 rows x 8 columns]"
      ]
     },
     "execution_count": 29,
     "metadata": {},
     "output_type": "execute_result"
    }
   ],
   "source": [
    "results"
   ]
  },
  {
   "cell_type": "code",
   "execution_count": 30,
   "metadata": {
    "colab": {
     "base_uri": "https://localhost:8080/"
    },
    "executionInfo": {
     "elapsed": 9,
     "status": "ok",
     "timestamp": 1647494001529,
     "user": {
      "displayName": "Mythreyi Velmurugan",
      "photoUrl": "https://lh3.googleusercontent.com/a-/AOh14Ggmo3ZwNw7WahbpkVzVLN5i6jFbk-vO0eV7keYsmQ=s64",
      "userId": "09509504425224260690"
     },
     "user_tz": -600
    },
    "id": "sEeIBMllapvO",
    "outputId": "34fca938-db75-41ab-f14b-e39a6c5dc14d"
   },
   "outputs": [
    {
     "name": "stdout",
     "output_type": "stream",
     "text": [
      "0.99\n",
      "0.08269155461355533\n"
     ]
    }
   ],
   "source": [
    "print(np.mean(compiled_precision))\n",
    "print(np.mean(compiled_recall))"
   ]
  },
  {
   "cell_type": "code",
   "execution_count": 31,
   "metadata": {
    "colab": {
     "base_uri": "https://localhost:8080/",
     "height": 431
    },
    "executionInfo": {
     "elapsed": 8,
     "status": "error",
     "timestamp": 1647494001529,
     "user": {
      "displayName": "Mythreyi Velmurugan",
      "photoUrl": "https://lh3.googleusercontent.com/a-/AOh14Ggmo3ZwNw7WahbpkVzVLN5i6jFbk-vO0eV7keYsmQ=s64",
      "userId": "09509504425224260690"
     },
     "user_tz": -600
    },
    "id": "LTQQwJ_yNzf4",
    "outputId": "dca5d347-83ff-4b74-dc14-a77aa7676b96",
    "scrolled": true
   },
   "outputs": [
    {
     "data": {
      "text/plain": [
       "(0.0, 1.0)"
      ]
     },
     "execution_count": 31,
     "metadata": {},
     "output_type": "execute_result"
    },
    {
     "data": {
      "image/svg+xml": [
       "<?xml version=\"1.0\" encoding=\"utf-8\" standalone=\"no\"?>\r\n",
       "<!DOCTYPE svg PUBLIC \"-//W3C//DTD SVG 1.1//EN\"\r\n",
       "  \"http://www.w3.org/Graphics/SVG/1.1/DTD/svg11.dtd\">\r\n",
       "<!-- Created with matplotlib (https://matplotlib.org/) -->\r\n",
       "<svg height=\"248.518125pt\" version=\"1.1\" viewBox=\"0 0 365.103125 248.518125\" width=\"365.103125pt\" xmlns=\"http://www.w3.org/2000/svg\" xmlns:xlink=\"http://www.w3.org/1999/xlink\">\r\n",
       " <metadata>\r\n",
       "  <rdf:RDF xmlns:cc=\"http://creativecommons.org/ns#\" xmlns:dc=\"http://purl.org/dc/elements/1.1/\" xmlns:rdf=\"http://www.w3.org/1999/02/22-rdf-syntax-ns#\">\r\n",
       "   <cc:Work>\r\n",
       "    <dc:type rdf:resource=\"http://purl.org/dc/dcmitype/StillImage\"/>\r\n",
       "    <dc:date>2022-04-11T09:16:16.028645</dc:date>\r\n",
       "    <dc:format>image/svg+xml</dc:format>\r\n",
       "    <dc:creator>\r\n",
       "     <cc:Agent>\r\n",
       "      <dc:title>Matplotlib v3.3.2, https://matplotlib.org/</dc:title>\r\n",
       "     </cc:Agent>\r\n",
       "    </dc:creator>\r\n",
       "   </cc:Work>\r\n",
       "  </rdf:RDF>\r\n",
       " </metadata>\r\n",
       " <defs>\r\n",
       "  <style type=\"text/css\">*{stroke-linecap:butt;stroke-linejoin:round;}</style>\r\n",
       " </defs>\r\n",
       " <g id=\"figure_1\">\r\n",
       "  <g id=\"patch_1\">\r\n",
       "   <path d=\"M 0 248.518125 \r\n",
       "L 365.103125 248.518125 \r\n",
       "L 365.103125 0 \r\n",
       "L 0 0 \r\n",
       "z\r\n",
       "\" style=\"fill:#e0e0e0;\"/>\r\n",
       "  </g>\r\n",
       "  <g id=\"axes_1\">\r\n",
       "   <g id=\"patch_2\">\r\n",
       "    <path d=\"M 15.151563 224.64 \r\n",
       "L 349.951563 224.64 \r\n",
       "L 349.951563 7.2 \r\n",
       "L 15.151563 7.2 \r\n",
       "z\r\n",
       "\" style=\"fill:#ffffff;\"/>\r\n",
       "   </g>\r\n",
       "   <g id=\"patch_3\">\r\n",
       "    <path clip-path=\"url(#p97fb28a0ea)\" d=\"M 349.951563 28.944 \r\n",
       "L 349.951563 202.896 \r\n",
       "L 349.951563 202.896 \r\n",
       "L 349.951563 28.944 \r\n",
       "L 349.951563 28.944 \r\n",
       "z\r\n",
       "\" style=\"fill:#5875a4;stroke:#4c4c4c;stroke-linejoin:miter;stroke-width:1.5;\"/>\r\n",
       "   </g>\r\n",
       "   <g id=\"matplotlib.axis_1\">\r\n",
       "    <g id=\"xtick_1\">\r\n",
       "     <g id=\"line2d_1\">\r\n",
       "      <defs>\r\n",
       "       <path d=\"M 0 0 \r\n",
       "L 0 3.5 \r\n",
       "\" id=\"m83ed58998a\" style=\"stroke:#000000;stroke-width:0.8;\"/>\r\n",
       "      </defs>\r\n",
       "      <g>\r\n",
       "       <use style=\"stroke:#000000;stroke-width:0.8;\" x=\"15.151563\" xlink:href=\"#m83ed58998a\" y=\"224.64\"/>\r\n",
       "      </g>\r\n",
       "     </g>\r\n",
       "     <g id=\"text_1\">\r\n",
       "      <!-- 0.0 -->\r\n",
       "      <g transform=\"translate(7.2 239.238437)scale(0.1 -0.1)\">\r\n",
       "       <defs>\r\n",
       "        <path d=\"M 31.78125 66.40625 \r\n",
       "Q 24.171875 66.40625 20.328125 58.90625 \r\n",
       "Q 16.5 51.421875 16.5 36.375 \r\n",
       "Q 16.5 21.390625 20.328125 13.890625 \r\n",
       "Q 24.171875 6.390625 31.78125 6.390625 \r\n",
       "Q 39.453125 6.390625 43.28125 13.890625 \r\n",
       "Q 47.125 21.390625 47.125 36.375 \r\n",
       "Q 47.125 51.421875 43.28125 58.90625 \r\n",
       "Q 39.453125 66.40625 31.78125 66.40625 \r\n",
       "z\r\n",
       "M 31.78125 74.21875 \r\n",
       "Q 44.046875 74.21875 50.515625 64.515625 \r\n",
       "Q 56.984375 54.828125 56.984375 36.375 \r\n",
       "Q 56.984375 17.96875 50.515625 8.265625 \r\n",
       "Q 44.046875 -1.421875 31.78125 -1.421875 \r\n",
       "Q 19.53125 -1.421875 13.0625 8.265625 \r\n",
       "Q 6.59375 17.96875 6.59375 36.375 \r\n",
       "Q 6.59375 54.828125 13.0625 64.515625 \r\n",
       "Q 19.53125 74.21875 31.78125 74.21875 \r\n",
       "z\r\n",
       "\" id=\"DejaVuSans-48\"/>\r\n",
       "        <path d=\"M 10.6875 12.40625 \r\n",
       "L 21 12.40625 \r\n",
       "L 21 0 \r\n",
       "L 10.6875 0 \r\n",
       "z\r\n",
       "\" id=\"DejaVuSans-46\"/>\r\n",
       "       </defs>\r\n",
       "       <use xlink:href=\"#DejaVuSans-48\"/>\r\n",
       "       <use x=\"63.623047\" xlink:href=\"#DejaVuSans-46\"/>\r\n",
       "       <use x=\"95.410156\" xlink:href=\"#DejaVuSans-48\"/>\r\n",
       "      </g>\r\n",
       "     </g>\r\n",
       "    </g>\r\n",
       "    <g id=\"xtick_2\">\r\n",
       "     <g id=\"line2d_2\">\r\n",
       "      <g>\r\n",
       "       <use style=\"stroke:#000000;stroke-width:0.8;\" x=\"82.111563\" xlink:href=\"#m83ed58998a\" y=\"224.64\"/>\r\n",
       "      </g>\r\n",
       "     </g>\r\n",
       "     <g id=\"text_2\">\r\n",
       "      <!-- 0.2 -->\r\n",
       "      <g transform=\"translate(74.16 239.238437)scale(0.1 -0.1)\">\r\n",
       "       <defs>\r\n",
       "        <path d=\"M 19.1875 8.296875 \r\n",
       "L 53.609375 8.296875 \r\n",
       "L 53.609375 0 \r\n",
       "L 7.328125 0 \r\n",
       "L 7.328125 8.296875 \r\n",
       "Q 12.9375 14.109375 22.625 23.890625 \r\n",
       "Q 32.328125 33.6875 34.8125 36.53125 \r\n",
       "Q 39.546875 41.84375 41.421875 45.53125 \r\n",
       "Q 43.3125 49.21875 43.3125 52.78125 \r\n",
       "Q 43.3125 58.59375 39.234375 62.25 \r\n",
       "Q 35.15625 65.921875 28.609375 65.921875 \r\n",
       "Q 23.96875 65.921875 18.8125 64.3125 \r\n",
       "Q 13.671875 62.703125 7.8125 59.421875 \r\n",
       "L 7.8125 69.390625 \r\n",
       "Q 13.765625 71.78125 18.9375 73 \r\n",
       "Q 24.125 74.21875 28.421875 74.21875 \r\n",
       "Q 39.75 74.21875 46.484375 68.546875 \r\n",
       "Q 53.21875 62.890625 53.21875 53.421875 \r\n",
       "Q 53.21875 48.921875 51.53125 44.890625 \r\n",
       "Q 49.859375 40.875 45.40625 35.40625 \r\n",
       "Q 44.1875 33.984375 37.640625 27.21875 \r\n",
       "Q 31.109375 20.453125 19.1875 8.296875 \r\n",
       "z\r\n",
       "\" id=\"DejaVuSans-50\"/>\r\n",
       "       </defs>\r\n",
       "       <use xlink:href=\"#DejaVuSans-48\"/>\r\n",
       "       <use x=\"63.623047\" xlink:href=\"#DejaVuSans-46\"/>\r\n",
       "       <use x=\"95.410156\" xlink:href=\"#DejaVuSans-50\"/>\r\n",
       "      </g>\r\n",
       "     </g>\r\n",
       "    </g>\r\n",
       "    <g id=\"xtick_3\">\r\n",
       "     <g id=\"line2d_3\">\r\n",
       "      <g>\r\n",
       "       <use style=\"stroke:#000000;stroke-width:0.8;\" x=\"149.071563\" xlink:href=\"#m83ed58998a\" y=\"224.64\"/>\r\n",
       "      </g>\r\n",
       "     </g>\r\n",
       "     <g id=\"text_3\">\r\n",
       "      <!-- 0.4 -->\r\n",
       "      <g transform=\"translate(141.12 239.238437)scale(0.1 -0.1)\">\r\n",
       "       <defs>\r\n",
       "        <path d=\"M 37.796875 64.3125 \r\n",
       "L 12.890625 25.390625 \r\n",
       "L 37.796875 25.390625 \r\n",
       "z\r\n",
       "M 35.203125 72.90625 \r\n",
       "L 47.609375 72.90625 \r\n",
       "L 47.609375 25.390625 \r\n",
       "L 58.015625 25.390625 \r\n",
       "L 58.015625 17.1875 \r\n",
       "L 47.609375 17.1875 \r\n",
       "L 47.609375 0 \r\n",
       "L 37.796875 0 \r\n",
       "L 37.796875 17.1875 \r\n",
       "L 4.890625 17.1875 \r\n",
       "L 4.890625 26.703125 \r\n",
       "z\r\n",
       "\" id=\"DejaVuSans-52\"/>\r\n",
       "       </defs>\r\n",
       "       <use xlink:href=\"#DejaVuSans-48\"/>\r\n",
       "       <use x=\"63.623047\" xlink:href=\"#DejaVuSans-46\"/>\r\n",
       "       <use x=\"95.410156\" xlink:href=\"#DejaVuSans-52\"/>\r\n",
       "      </g>\r\n",
       "     </g>\r\n",
       "    </g>\r\n",
       "    <g id=\"xtick_4\">\r\n",
       "     <g id=\"line2d_4\">\r\n",
       "      <g>\r\n",
       "       <use style=\"stroke:#000000;stroke-width:0.8;\" x=\"216.031563\" xlink:href=\"#m83ed58998a\" y=\"224.64\"/>\r\n",
       "      </g>\r\n",
       "     </g>\r\n",
       "     <g id=\"text_4\">\r\n",
       "      <!-- 0.6 -->\r\n",
       "      <g transform=\"translate(208.08 239.238437)scale(0.1 -0.1)\">\r\n",
       "       <defs>\r\n",
       "        <path d=\"M 33.015625 40.375 \r\n",
       "Q 26.375 40.375 22.484375 35.828125 \r\n",
       "Q 18.609375 31.296875 18.609375 23.390625 \r\n",
       "Q 18.609375 15.53125 22.484375 10.953125 \r\n",
       "Q 26.375 6.390625 33.015625 6.390625 \r\n",
       "Q 39.65625 6.390625 43.53125 10.953125 \r\n",
       "Q 47.40625 15.53125 47.40625 23.390625 \r\n",
       "Q 47.40625 31.296875 43.53125 35.828125 \r\n",
       "Q 39.65625 40.375 33.015625 40.375 \r\n",
       "z\r\n",
       "M 52.59375 71.296875 \r\n",
       "L 52.59375 62.3125 \r\n",
       "Q 48.875 64.0625 45.09375 64.984375 \r\n",
       "Q 41.3125 65.921875 37.59375 65.921875 \r\n",
       "Q 27.828125 65.921875 22.671875 59.328125 \r\n",
       "Q 17.53125 52.734375 16.796875 39.40625 \r\n",
       "Q 19.671875 43.65625 24.015625 45.921875 \r\n",
       "Q 28.375 48.1875 33.59375 48.1875 \r\n",
       "Q 44.578125 48.1875 50.953125 41.515625 \r\n",
       "Q 57.328125 34.859375 57.328125 23.390625 \r\n",
       "Q 57.328125 12.15625 50.6875 5.359375 \r\n",
       "Q 44.046875 -1.421875 33.015625 -1.421875 \r\n",
       "Q 20.359375 -1.421875 13.671875 8.265625 \r\n",
       "Q 6.984375 17.96875 6.984375 36.375 \r\n",
       "Q 6.984375 53.65625 15.1875 63.9375 \r\n",
       "Q 23.390625 74.21875 37.203125 74.21875 \r\n",
       "Q 40.921875 74.21875 44.703125 73.484375 \r\n",
       "Q 48.484375 72.75 52.59375 71.296875 \r\n",
       "z\r\n",
       "\" id=\"DejaVuSans-54\"/>\r\n",
       "       </defs>\r\n",
       "       <use xlink:href=\"#DejaVuSans-48\"/>\r\n",
       "       <use x=\"63.623047\" xlink:href=\"#DejaVuSans-46\"/>\r\n",
       "       <use x=\"95.410156\" xlink:href=\"#DejaVuSans-54\"/>\r\n",
       "      </g>\r\n",
       "     </g>\r\n",
       "    </g>\r\n",
       "    <g id=\"xtick_5\">\r\n",
       "     <g id=\"line2d_5\">\r\n",
       "      <g>\r\n",
       "       <use style=\"stroke:#000000;stroke-width:0.8;\" x=\"282.991563\" xlink:href=\"#m83ed58998a\" y=\"224.64\"/>\r\n",
       "      </g>\r\n",
       "     </g>\r\n",
       "     <g id=\"text_5\">\r\n",
       "      <!-- 0.8 -->\r\n",
       "      <g transform=\"translate(275.04 239.238437)scale(0.1 -0.1)\">\r\n",
       "       <defs>\r\n",
       "        <path d=\"M 31.78125 34.625 \r\n",
       "Q 24.75 34.625 20.71875 30.859375 \r\n",
       "Q 16.703125 27.09375 16.703125 20.515625 \r\n",
       "Q 16.703125 13.921875 20.71875 10.15625 \r\n",
       "Q 24.75 6.390625 31.78125 6.390625 \r\n",
       "Q 38.8125 6.390625 42.859375 10.171875 \r\n",
       "Q 46.921875 13.96875 46.921875 20.515625 \r\n",
       "Q 46.921875 27.09375 42.890625 30.859375 \r\n",
       "Q 38.875 34.625 31.78125 34.625 \r\n",
       "z\r\n",
       "M 21.921875 38.8125 \r\n",
       "Q 15.578125 40.375 12.03125 44.71875 \r\n",
       "Q 8.5 49.078125 8.5 55.328125 \r\n",
       "Q 8.5 64.0625 14.71875 69.140625 \r\n",
       "Q 20.953125 74.21875 31.78125 74.21875 \r\n",
       "Q 42.671875 74.21875 48.875 69.140625 \r\n",
       "Q 55.078125 64.0625 55.078125 55.328125 \r\n",
       "Q 55.078125 49.078125 51.53125 44.71875 \r\n",
       "Q 48 40.375 41.703125 38.8125 \r\n",
       "Q 48.828125 37.15625 52.796875 32.3125 \r\n",
       "Q 56.78125 27.484375 56.78125 20.515625 \r\n",
       "Q 56.78125 9.90625 50.3125 4.234375 \r\n",
       "Q 43.84375 -1.421875 31.78125 -1.421875 \r\n",
       "Q 19.734375 -1.421875 13.25 4.234375 \r\n",
       "Q 6.78125 9.90625 6.78125 20.515625 \r\n",
       "Q 6.78125 27.484375 10.78125 32.3125 \r\n",
       "Q 14.796875 37.15625 21.921875 38.8125 \r\n",
       "z\r\n",
       "M 18.3125 54.390625 \r\n",
       "Q 18.3125 48.734375 21.84375 45.5625 \r\n",
       "Q 25.390625 42.390625 31.78125 42.390625 \r\n",
       "Q 38.140625 42.390625 41.71875 45.5625 \r\n",
       "Q 45.3125 48.734375 45.3125 54.390625 \r\n",
       "Q 45.3125 60.0625 41.71875 63.234375 \r\n",
       "Q 38.140625 66.40625 31.78125 66.40625 \r\n",
       "Q 25.390625 66.40625 21.84375 63.234375 \r\n",
       "Q 18.3125 60.0625 18.3125 54.390625 \r\n",
       "z\r\n",
       "\" id=\"DejaVuSans-56\"/>\r\n",
       "       </defs>\r\n",
       "       <use xlink:href=\"#DejaVuSans-48\"/>\r\n",
       "       <use x=\"63.623047\" xlink:href=\"#DejaVuSans-46\"/>\r\n",
       "       <use x=\"95.410156\" xlink:href=\"#DejaVuSans-56\"/>\r\n",
       "      </g>\r\n",
       "     </g>\r\n",
       "    </g>\r\n",
       "    <g id=\"xtick_6\">\r\n",
       "     <g id=\"line2d_6\">\r\n",
       "      <g>\r\n",
       "       <use style=\"stroke:#000000;stroke-width:0.8;\" x=\"349.951563\" xlink:href=\"#m83ed58998a\" y=\"224.64\"/>\r\n",
       "      </g>\r\n",
       "     </g>\r\n",
       "     <g id=\"text_6\">\r\n",
       "      <!-- 1.0 -->\r\n",
       "      <g transform=\"translate(342 239.238437)scale(0.1 -0.1)\">\r\n",
       "       <defs>\r\n",
       "        <path d=\"M 12.40625 8.296875 \r\n",
       "L 28.515625 8.296875 \r\n",
       "L 28.515625 63.921875 \r\n",
       "L 10.984375 60.40625 \r\n",
       "L 10.984375 69.390625 \r\n",
       "L 28.421875 72.90625 \r\n",
       "L 38.28125 72.90625 \r\n",
       "L 38.28125 8.296875 \r\n",
       "L 54.390625 8.296875 \r\n",
       "L 54.390625 0 \r\n",
       "L 12.40625 0 \r\n",
       "z\r\n",
       "\" id=\"DejaVuSans-49\"/>\r\n",
       "       </defs>\r\n",
       "       <use xlink:href=\"#DejaVuSans-49\"/>\r\n",
       "       <use x=\"63.623047\" xlink:href=\"#DejaVuSans-46\"/>\r\n",
       "       <use x=\"95.410156\" xlink:href=\"#DejaVuSans-48\"/>\r\n",
       "      </g>\r\n",
       "     </g>\r\n",
       "    </g>\r\n",
       "   </g>\r\n",
       "   <g id=\"matplotlib.axis_2\">\r\n",
       "    <g id=\"ytick_1\">\r\n",
       "     <g id=\"line2d_7\">\r\n",
       "      <defs>\r\n",
       "       <path d=\"M 0 0 \r\n",
       "L -3.5 0 \r\n",
       "\" id=\"md29aa1bfc9\" style=\"stroke:#000000;stroke-width:0.8;\"/>\r\n",
       "      </defs>\r\n",
       "      <g>\r\n",
       "       <use style=\"stroke:#000000;stroke-width:0.8;\" x=\"15.151563\" xlink:href=\"#md29aa1bfc9\" y=\"115.92\"/>\r\n",
       "      </g>\r\n",
       "     </g>\r\n",
       "    </g>\r\n",
       "   </g>\r\n",
       "   <g id=\"line2d_8\">\r\n",
       "    <path clip-path=\"url(#p97fb28a0ea)\" d=\"M 349.951563 115.92 \r\n",
       "L 349.951563 115.92 \r\n",
       "\" style=\"fill:none;stroke:#4c4c4c;stroke-linecap:square;stroke-width:1.5;\"/>\r\n",
       "   </g>\r\n",
       "   <g id=\"line2d_9\">\r\n",
       "    <path clip-path=\"url(#p97fb28a0ea)\" d=\"M 349.951563 115.92 \r\n",
       "L 349.951563 115.92 \r\n",
       "\" style=\"fill:none;stroke:#4c4c4c;stroke-linecap:square;stroke-width:1.5;\"/>\r\n",
       "   </g>\r\n",
       "   <g id=\"line2d_10\">\r\n",
       "    <path clip-path=\"url(#p97fb28a0ea)\" d=\"M 349.951563 72.432 \r\n",
       "L 349.951563 159.408 \r\n",
       "\" style=\"fill:none;stroke:#4c4c4c;stroke-linecap:square;stroke-width:1.5;\"/>\r\n",
       "   </g>\r\n",
       "   <g id=\"line2d_11\">\r\n",
       "    <path clip-path=\"url(#p97fb28a0ea)\" d=\"M 349.951563 72.432 \r\n",
       "L 349.951563 159.408 \r\n",
       "\" style=\"fill:none;stroke:#4c4c4c;stroke-linecap:square;stroke-width:1.5;\"/>\r\n",
       "   </g>\r\n",
       "   <g id=\"line2d_12\">\r\n",
       "    <defs>\r\n",
       "     <path d=\"M 0 3.535534 \r\n",
       "L 2.12132 0 \r\n",
       "L 0 -3.535534 \r\n",
       "L -2.12132 0 \r\n",
       "z\r\n",
       "\" id=\"maa1652f6b7\" style=\"stroke:#4c4c4c;stroke-linejoin:miter;\"/>\r\n",
       "    </defs>\r\n",
       "    <g clip-path=\"url(#p97fb28a0ea)\">\r\n",
       "     <use style=\"fill:#4c4c4c;stroke:#4c4c4c;stroke-linejoin:miter;\" x=\"15.151563\" xlink:href=\"#maa1652f6b7\" y=\"115.92\"/>\r\n",
       "    </g>\r\n",
       "   </g>\r\n",
       "   <g id=\"line2d_13\">\r\n",
       "    <path clip-path=\"url(#p97fb28a0ea)\" d=\"M 349.951563 28.944 \r\n",
       "L 349.951563 202.896 \r\n",
       "\" style=\"fill:none;stroke:#4c4c4c;stroke-linecap:square;stroke-width:1.5;\"/>\r\n",
       "   </g>\r\n",
       "   <g id=\"patch_4\">\r\n",
       "    <path d=\"M 15.151563 224.64 \r\n",
       "L 15.151563 7.2 \r\n",
       "\" style=\"fill:none;stroke:#000000;stroke-linecap:square;stroke-linejoin:miter;stroke-width:0.8;\"/>\r\n",
       "   </g>\r\n",
       "   <g id=\"patch_5\">\r\n",
       "    <path d=\"M 349.951563 224.64 \r\n",
       "L 349.951563 7.2 \r\n",
       "\" style=\"fill:none;stroke:#000000;stroke-linecap:square;stroke-linejoin:miter;stroke-width:0.8;\"/>\r\n",
       "   </g>\r\n",
       "   <g id=\"patch_6\">\r\n",
       "    <path d=\"M 15.151563 224.64 \r\n",
       "L 349.951563 224.64 \r\n",
       "\" style=\"fill:none;stroke:#000000;stroke-linecap:square;stroke-linejoin:miter;stroke-width:0.8;\"/>\r\n",
       "   </g>\r\n",
       "   <g id=\"patch_7\">\r\n",
       "    <path d=\"M 15.151563 7.2 \r\n",
       "L 349.951563 7.2 \r\n",
       "\" style=\"fill:none;stroke:#000000;stroke-linecap:square;stroke-linejoin:miter;stroke-width:0.8;\"/>\r\n",
       "   </g>\r\n",
       "  </g>\r\n",
       " </g>\r\n",
       " <defs>\r\n",
       "  <clipPath id=\"p97fb28a0ea\">\r\n",
       "   <rect height=\"217.44\" width=\"334.8\" x=\"15.151563\" y=\"7.2\"/>\r\n",
       "  </clipPath>\r\n",
       " </defs>\r\n",
       "</svg>\r\n"
      ],
      "text/plain": [
       "<Figure size 432x288 with 1 Axes>"
      ]
     },
     "metadata": {},
     "output_type": "display_data"
    }
   ],
   "source": [
    "sns.boxplot(compiled_precision)\n",
    "plt.xlim(0,1)"
   ]
  },
  {
   "cell_type": "code",
   "execution_count": 32,
   "metadata": {
    "executionInfo": {
     "elapsed": 8,
     "status": "aborted",
     "timestamp": 1647494001530,
     "user": {
      "displayName": "Mythreyi Velmurugan",
      "photoUrl": "https://lh3.googleusercontent.com/a-/AOh14Ggmo3ZwNw7WahbpkVzVLN5i6jFbk-vO0eV7keYsmQ=s64",
      "userId": "09509504425224260690"
     },
     "user_tz": -600
    },
    "id": "3k8MaMg1Nzf4",
    "scrolled": true
   },
   "outputs": [
    {
     "data": {
      "text/plain": [
       "[1.0,\n",
       " 1.0,\n",
       " 1.0,\n",
       " 1.0,\n",
       " 1.0,\n",
       " 1.0,\n",
       " 1.0,\n",
       " 1.0,\n",
       " 1.0,\n",
       " 1.0,\n",
       " 1.0,\n",
       " 1.0,\n",
       " 1.0,\n",
       " 1.0,\n",
       " 1.0,\n",
       " 1.0,\n",
       " 0.0,\n",
       " 1.0,\n",
       " 1.0,\n",
       " 1.0,\n",
       " 1.0,\n",
       " 1.0,\n",
       " 1.0,\n",
       " 1.0,\n",
       " 1.0,\n",
       " 1.0,\n",
       " 1.0,\n",
       " 1.0,\n",
       " 1.0,\n",
       " 1.0,\n",
       " 1.0,\n",
       " 1.0,\n",
       " 1.0,\n",
       " 1.0,\n",
       " 1.0,\n",
       " 1.0,\n",
       " 1.0,\n",
       " 1.0,\n",
       " 1.0,\n",
       " 1.0,\n",
       " 1.0,\n",
       " 1.0,\n",
       " 1.0,\n",
       " 1.0,\n",
       " 1.0,\n",
       " 1.0,\n",
       " 1.0,\n",
       " 1.0,\n",
       " 1.0,\n",
       " 1.0,\n",
       " 1.0,\n",
       " 1.0,\n",
       " 1.0,\n",
       " 1.0,\n",
       " 1.0,\n",
       " 1.0,\n",
       " 1.0,\n",
       " 1.0,\n",
       " 1.0,\n",
       " 1.0,\n",
       " 1.0,\n",
       " 1.0,\n",
       " 1.0,\n",
       " 1.0,\n",
       " 1.0,\n",
       " 1.0,\n",
       " 1.0,\n",
       " 1.0,\n",
       " 1.0,\n",
       " 1.0,\n",
       " 1.0,\n",
       " 1.0,\n",
       " 1.0,\n",
       " 1.0,\n",
       " 1.0,\n",
       " 1.0,\n",
       " 1.0,\n",
       " 1.0,\n",
       " 1.0,\n",
       " 1.0,\n",
       " 1.0,\n",
       " 1.0,\n",
       " 1.0,\n",
       " 1.0,\n",
       " 1.0,\n",
       " 1.0,\n",
       " 1.0,\n",
       " 1.0,\n",
       " 1.0,\n",
       " 1.0,\n",
       " 1.0,\n",
       " 1.0,\n",
       " 1.0,\n",
       " 1.0,\n",
       " 1.0,\n",
       " 1.0,\n",
       " 1.0,\n",
       " 1.0,\n",
       " 1.0,\n",
       " 1.0]"
      ]
     },
     "execution_count": 32,
     "metadata": {},
     "output_type": "execute_result"
    }
   ],
   "source": [
    "compiled_precision"
   ]
  },
  {
   "cell_type": "code",
   "execution_count": 33,
   "metadata": {
    "executionInfo": {
     "elapsed": 9,
     "status": "aborted",
     "timestamp": 1647494001532,
     "user": {
      "displayName": "Mythreyi Velmurugan",
      "photoUrl": "https://lh3.googleusercontent.com/a-/AOh14Ggmo3ZwNw7WahbpkVzVLN5i6jFbk-vO0eV7keYsmQ=s64",
      "userId": "09509504425224260690"
     },
     "user_tz": -600
    },
    "id": "1VSK837dapvP"
   },
   "outputs": [],
   "source": [
    "results.to_csv(os.path.join(save_to, cls_method, \"results.csv\"), index = False, sep = \";\")"
   ]
  },
  {
   "cell_type": "code",
   "execution_count": 34,
   "metadata": {
    "executionInfo": {
     "elapsed": 8,
     "status": "aborted",
     "timestamp": 1647494001530,
     "user": {
      "displayName": "Mythreyi Velmurugan",
      "photoUrl": "https://lh3.googleusercontent.com/a-/AOh14Ggmo3ZwNw7WahbpkVzVLN5i6jFbk-vO0eV7keYsmQ=s64",
      "userId": "09509504425224260690"
     },
     "user_tz": -600
    },
    "id": "EEl48JQGNzf4"
   },
   "outputs": [
    {
     "data": {
      "text/plain": [
       "array([0.57142857, 0.5455    , 0.88      , 0.15786999, 0.        ,\n",
       "       1.        , 0.        , 0.        , 0.        , 1.        ,\n",
       "       0.        , 0.        , 0.        , 0.        , 1.        ,\n",
       "       0.        , 0.        , 0.        , 0.        , 0.        ,\n",
       "       0.        , 0.        , 0.        , 0.        , 0.        ,\n",
       "       0.        , 0.        , 0.        , 0.        , 0.        ,\n",
       "       0.        , 0.        , 0.        , 0.        , 0.        ,\n",
       "       0.        , 0.        , 0.        , 0.        , 0.        ,\n",
       "       0.        , 1.        , 0.        , 0.        , 0.        ,\n",
       "       0.        , 1.        , 0.        , 0.        , 1.        ,\n",
       "       0.        , 0.        , 0.        , 0.        , 0.        ,\n",
       "       0.        , 1.        , 0.        , 0.        , 1.        ,\n",
       "       0.        ])"
      ]
     },
     "execution_count": 34,
     "metadata": {},
     "output_type": "execute_result"
    }
   ],
   "source": [
    "instance"
   ]
  },
  {
   "cell_type": "code",
   "execution_count": 35,
   "metadata": {
    "executionInfo": {
     "elapsed": 8,
     "status": "aborted",
     "timestamp": 1647494001530,
     "user": {
      "displayName": "Mythreyi Velmurugan",
      "photoUrl": "https://lh3.googleusercontent.com/a-/AOh14Ggmo3ZwNw7WahbpkVzVLN5i6jFbk-vO0eV7keYsmQ=s64",
      "userId": "09509504425224260690"
     },
     "user_tz": -600
    },
    "id": "B5CLn_gENzf5"
   },
   "outputs": [
    {
     "ename": "NameError",
     "evalue": "name 'test_dict' is not defined",
     "output_type": "error",
     "traceback": [
      "\u001b[1;31m---------------------------------------------------------------------------\u001b[0m",
      "\u001b[1;31mNameError\u001b[0m                                 Traceback (most recent call last)",
      "\u001b[1;32m<ipython-input-35-0433b42c3a44>\u001b[0m in \u001b[0;36m<module>\u001b[1;34m\u001b[0m\n\u001b[1;32m----> 1\u001b[1;33m \u001b[0minstance\u001b[0m \u001b[1;33m=\u001b[0m \u001b[0mtest_dict\u001b[0m\u001b[1;33m[\u001b[0m\u001b[1;36m5\u001b[0m\u001b[1;33m+\u001b[0m\u001b[1;36m14\u001b[0m\u001b[1;33m]\u001b[0m\u001b[1;33m\u001b[0m\u001b[1;33m\u001b[0m\u001b[0m\n\u001b[0m\u001b[0;32m      2\u001b[0m \u001b[0mlabel_lst\u001b[0m \u001b[1;33m=\u001b[0m \u001b[1;33m[\u001b[0m\u001b[1;34m\"Negative\"\u001b[0m\u001b[1;33m,\u001b[0m \u001b[1;34m\"Positive\"\u001b[0m\u001b[1;33m]\u001b[0m\u001b[1;33m\u001b[0m\u001b[1;33m\u001b[0m\u001b[0m\n",
      "\u001b[1;31mNameError\u001b[0m: name 'test_dict' is not defined"
     ]
    }
   ],
   "source": [
    "instance = test_dict[5+14]\n",
    "label_lst = [\"Negative\", \"Positive\"]"
   ]
  },
  {
   "cell_type": "code",
   "execution_count": null,
   "metadata": {
    "executionInfo": {
     "elapsed": 7,
     "status": "aborted",
     "timestamp": 1647494001530,
     "user": {
      "displayName": "Mythreyi Velmurugan",
      "photoUrl": "https://lh3.googleusercontent.com/a-/AOh14Ggmo3ZwNw7WahbpkVzVLN5i6jFbk-vO0eV7keYsmQ=s64",
      "userId": "09509504425224260690"
     },
     "user_tz": -600
    },
    "id": "DMMntlVrNzf5"
   },
   "outputs": [],
   "source": [
    "[bn, inference, infoBN] = generate_BN_explanations(instance, label_lst, feat_list, \"Result\", \n",
    "                                                                       None, scaler, cls, save_to+\"/\"+cls_method+\"/\", dataset, show_in_notebook = False)\n",
    "        \n",
    "ie = pyAgrum.LazyPropagation(bn)\n",
    "result_posterior = ie.posterior(bn.idFromName(\"Result\")).topandas()\n",
    "result_proba = result_posterior.loc[\"Result\", label_lst[instance['predictions']]]\n",
    "row = instance['original_vector']\n",
    "#print(row)\n",
    "\n",
    "likelihood = [0]*len(feat_list)\n",
    "\n",
    "for j in range(len(feat_list)):\n",
    "    var_labels = bn.variable(feat_list[j]).labels()\n",
    "    str_bins = list(var_labels)\n",
    "    bins = []\n",
    "\n",
    "    for disc_bin in str_bins:\n",
    "        disc_bin = disc_bin.strip('\"(]')\n",
    "        cat = [float(val) for val in disc_bin.split(',')]\n",
    "        bins.append(cat)\n",
    "\n",
    "    for k in range(len(bins)):\n",
    "        if k == 0 and row[j] <= bins[k][0]:\n",
    "            feat_bin = str_bins[k]\n",
    "        elif k == len(bins)-1 and row[j] >= bins[k][1]:\n",
    "            feat_bin = str_bins[k]\n",
    "        elif row[j] > bins[k][0] and row[j] <= bins[k][1]:\n",
    "            feat_bin = str_bins[k]\n",
    "\n",
    "    ie = pyAgrum.LazyPropagation(bn)\n",
    "    ie.setEvidence({feat_list[j]: feat_bin})\n",
    "    ie.makeInference()\n",
    "\n",
    "    result_posterior = ie.posterior(bn.idFromName(\"Result\")).topandas()\n",
    "    new_proba = result_posterior.loc[\"Result\", label_lst[instance['predictions']]]\n",
    "    #print(result_proba, new_proba)\n",
    "    proba_change = result_proba-new_proba\n",
    "    likelihood[j] = abs(proba_change)\n",
    "print(likelihood)"
   ]
  },
  {
   "cell_type": "code",
   "execution_count": null,
   "metadata": {
    "executionInfo": {
     "elapsed": 8,
     "status": "aborted",
     "timestamp": 1647494001531,
     "user": {
      "displayName": "Mythreyi Velmurugan",
      "photoUrl": "https://lh3.googleusercontent.com/a-/AOh14Ggmo3ZwNw7WahbpkVzVLN5i6jFbk-vO0eV7keYsmQ=s64",
      "userId": "09509504425224260690"
     },
     "user_tz": -600
    },
    "id": "jmrhfHi2Nzf5"
   },
   "outputs": [],
   "source": [
    "bins = pd.cut(likelihood, 4, retbins = True, duplicates = \"drop\")\n",
    "q1_min = bins[1][-2]\n",
    "q1_min"
   ]
  },
  {
   "cell_type": "code",
   "execution_count": null,
   "metadata": {
    "executionInfo": {
     "elapsed": 8,
     "status": "aborted",
     "timestamp": 1647494001531,
     "user": {
      "displayName": "Mythreyi Velmurugan",
      "photoUrl": "https://lh3.googleusercontent.com/a-/AOh14Ggmo3ZwNw7WahbpkVzVLN5i6jFbk-vO0eV7keYsmQ=s64",
      "userId": "09509504425224260690"
     },
     "user_tz": -600
    },
    "id": "JANfJxaVNzf5"
   },
   "outputs": [],
   "source": [
    "feat_list[2]"
   ]
  },
  {
   "cell_type": "code",
   "execution_count": null,
   "metadata": {
    "executionInfo": {
     "elapsed": 8,
     "status": "aborted",
     "timestamp": 1647494001531,
     "user": {
      "displayName": "Mythreyi Velmurugan",
      "photoUrl": "https://lh3.googleusercontent.com/a-/AOh14Ggmo3ZwNw7WahbpkVzVLN5i6jFbk-vO0eV7keYsmQ=s64",
      "userId": "09509504425224260690"
     },
     "user_tz": -600
    },
    "id": "A7eGp2cbNzf5"
   },
   "outputs": [],
   "source": [
    "gnb.sideBySide(inference)"
   ]
  },
  {
   "cell_type": "code",
   "execution_count": null,
   "metadata": {
    "executionInfo": {
     "elapsed": 8,
     "status": "aborted",
     "timestamp": 1647494001531,
     "user": {
      "displayName": "Mythreyi Velmurugan",
      "photoUrl": "https://lh3.googleusercontent.com/a-/AOh14Ggmo3ZwNw7WahbpkVzVLN5i6jFbk-vO0eV7keYsmQ=s64",
      "userId": "09509504425224260690"
     },
     "user_tz": -600
    },
    "id": "cuWMVR32Nzf5"
   },
   "outputs": [],
   "source": [
    "compiled_recall"
   ]
  },
  {
   "cell_type": "code",
   "execution_count": null,
   "metadata": {
    "executionInfo": {
     "elapsed": 9,
     "status": "aborted",
     "timestamp": 1647494001532,
     "user": {
      "displayName": "Mythreyi Velmurugan",
      "photoUrl": "https://lh3.googleusercontent.com/a-/AOh14Ggmo3ZwNw7WahbpkVzVLN5i6jFbk-vO0eV7keYsmQ=s64",
      "userId": "09509504425224260690"
     },
     "user_tz": -600
    },
    "id": "j5jnVzLJapvP"
   },
   "outputs": [],
   "source": [
    "print(true_features)\n",
    "print(explanation_features)"
   ]
  },
  {
   "cell_type": "code",
   "execution_count": null,
   "metadata": {
    "executionInfo": {
     "elapsed": 9,
     "status": "aborted",
     "timestamp": 1647494001532,
     "user": {
      "displayName": "Mythreyi Velmurugan",
      "photoUrl": "https://lh3.googleusercontent.com/a-/AOh14Ggmo3ZwNw7WahbpkVzVLN5i6jFbk-vO0eV7keYsmQ=s64",
      "userId": "09509504425224260690"
     },
     "user_tz": -600
    },
    "id": "SQRAWgH0Nzf6"
   },
   "outputs": [],
   "source": []
  },
  {
   "cell_type": "code",
   "execution_count": null,
   "metadata": {
    "executionInfo": {
     "elapsed": 9,
     "status": "aborted",
     "timestamp": 1647494001532,
     "user": {
      "displayName": "Mythreyi Velmurugan",
      "photoUrl": "https://lh3.googleusercontent.com/a-/AOh14Ggmo3ZwNw7WahbpkVzVLN5i6jFbk-vO0eV7keYsmQ=s64",
      "userId": "09509504425224260690"
     },
     "user_tz": -600
    },
    "id": "rfgTUpSRNzf6"
   },
   "outputs": [],
   "source": [
    "cls.predict(instance.reshape(1, -1))"
   ]
  },
  {
   "cell_type": "code",
   "execution_count": null,
   "metadata": {
    "executionInfo": {
     "elapsed": 9,
     "status": "aborted",
     "timestamp": 1647494001532,
     "user": {
      "displayName": "Mythreyi Velmurugan",
      "photoUrl": "https://lh3.googleusercontent.com/a-/AOh14Ggmo3ZwNw7WahbpkVzVLN5i6jFbk-vO0eV7keYsmQ=s64",
      "userId": "09509504425224260690"
     },
     "user_tz": -600
    },
    "id": "pNBZHz_pNzf6"
   },
   "outputs": [],
   "source": [
    "cls.predict_proba(instance.reshape(1, -1))"
   ]
  },
  {
   "cell_type": "code",
   "execution_count": null,
   "metadata": {
    "executionInfo": {
     "elapsed": 10,
     "status": "aborted",
     "timestamp": 1647494001533,
     "user": {
      "displayName": "Mythreyi Velmurugan",
      "photoUrl": "https://lh3.googleusercontent.com/a-/AOh14Ggmo3ZwNw7WahbpkVzVLN5i6jFbk-vO0eV7keYsmQ=s64",
      "userId": "09509504425224260690"
     },
     "user_tz": -600
    },
    "id": "An_KLpWqNzf6"
   },
   "outputs": [],
   "source": [
    "cls.predict_log_proba(instance.reshape(1, -1))"
   ]
  },
  {
   "cell_type": "code",
   "execution_count": null,
   "metadata": {
    "executionInfo": {
     "elapsed": 9,
     "status": "aborted",
     "timestamp": 1647494001533,
     "user": {
      "displayName": "Mythreyi Velmurugan",
      "photoUrl": "https://lh3.googleusercontent.com/a-/AOh14Ggmo3ZwNw7WahbpkVzVLN5i6jFbk-vO0eV7keYsmQ=s64",
      "userId": "09509504425224260690"
     },
     "user_tz": -600
    },
    "id": "omiKDiYCKHyy"
   },
   "outputs": [],
   "source": [
    "# #! git add .\n",
    "# #! git commit -m \"update notebook with white box acv code\"\n",
    "# ! git pull"
   ]
  },
  {
   "cell_type": "code",
   "execution_count": null,
   "metadata": {
    "executionInfo": {
     "elapsed": 9,
     "status": "aborted",
     "timestamp": 1647494001533,
     "user": {
      "displayName": "Mythreyi Velmurugan",
      "photoUrl": "https://lh3.googleusercontent.com/a-/AOh14Ggmo3ZwNw7WahbpkVzVLN5i6jFbk-vO0eV7keYsmQ=s64",
      "userId": "09509504425224260690"
     },
     "user_tz": -600
    },
    "id": "y6ySEhlJN1dD"
   },
   "outputs": [],
   "source": [
    "# !git add .\n",
    "# !git commit -m \"update notebook with acv code\""
   ]
  },
  {
   "cell_type": "code",
   "execution_count": null,
   "metadata": {
    "executionInfo": {
     "elapsed": 9508,
     "status": "aborted",
     "timestamp": 1647494001533,
     "user": {
      "displayName": "Mythreyi Velmurugan",
      "photoUrl": "https://lh3.googleusercontent.com/a-/AOh14Ggmo3ZwNw7WahbpkVzVLN5i6jFbk-vO0eV7keYsmQ=s64",
      "userId": "09509504425224260690"
     },
     "user_tz": -600
    },
    "id": "2FqRoTkvNmNV"
   },
   "outputs": [],
   "source": [
    "# !git config --global user.email \"n9455647@qut.edu.au\"\n",
    "# !git config --global user.name \"Mythreyi-V\""
   ]
  }
 ],
 "metadata": {
  "colab": {
   "collapsed_sections": [],
   "name": "test_white_box_fidelity.ipynb",
   "provenance": []
  },
  "kernelspec": {
   "display_name": "Python 3",
   "language": "python",
   "name": "python3"
  },
  "language_info": {
   "codemirror_mode": {
    "name": "ipython",
    "version": 3
   },
   "file_extension": ".py",
   "mimetype": "text/x-python",
   "name": "python",
   "nbconvert_exporter": "python",
   "pygments_lexer": "ipython3",
   "version": "3.8.3"
  },
  "widgets": {
   "application/vnd.jupyter.widget-state+json": {
    "100bb41e9af843d4a42def950d2ce068": {
     "model_module": "@jupyter-widgets/controls",
     "model_module_version": "1.5.0",
     "model_name": "DescriptionStyleModel",
     "state": {
      "_model_module": "@jupyter-widgets/controls",
      "_model_module_version": "1.5.0",
      "_model_name": "DescriptionStyleModel",
      "_view_count": null,
      "_view_module": "@jupyter-widgets/base",
      "_view_module_version": "1.2.0",
      "_view_name": "StyleView",
      "description_width": ""
     }
    },
    "254f12685809432c8b3990134fdc0681": {
     "model_module": "@jupyter-widgets/controls",
     "model_module_version": "1.5.0",
     "model_name": "HTMLModel",
     "state": {
      "_dom_classes": [],
      "_model_module": "@jupyter-widgets/controls",
      "_model_module_version": "1.5.0",
      "_model_name": "HTMLModel",
      "_view_count": null,
      "_view_module": "@jupyter-widgets/controls",
      "_view_module_version": "1.5.0",
      "_view_name": "HTMLView",
      "description": "",
      "description_tooltip": null,
      "layout": "IPY_MODEL_e98fc36b054a42e19570c41882a4e0c6",
      "placeholder": "​",
      "style": "IPY_MODEL_100bb41e9af843d4a42def950d2ce068",
      "value": " 26/26 [00:08&lt;00:00,  3.15it/s]"
     }
    },
    "29828f9cda034630b0ee0f8881c38f9a": {
     "model_module": "@jupyter-widgets/controls",
     "model_module_version": "1.5.0",
     "model_name": "FloatProgressModel",
     "state": {
      "_dom_classes": [],
      "_model_module": "@jupyter-widgets/controls",
      "_model_module_version": "1.5.0",
      "_model_name": "FloatProgressModel",
      "_view_count": null,
      "_view_module": "@jupyter-widgets/controls",
      "_view_module_version": "1.5.0",
      "_view_name": "ProgressView",
      "bar_style": "success",
      "description": "",
      "description_tooltip": null,
      "layout": "IPY_MODEL_b7404773f76b400494957139d068592f",
      "max": 26,
      "min": 0,
      "orientation": "horizontal",
      "style": "IPY_MODEL_e7725236fce944f384e72836720a2524",
      "value": 26
     }
    },
    "3a45728e4b8646779dba75d89096f1a8": {
     "model_module": "@jupyter-widgets/base",
     "model_module_version": "1.2.0",
     "model_name": "LayoutModel",
     "state": {
      "_model_module": "@jupyter-widgets/base",
      "_model_module_version": "1.2.0",
      "_model_name": "LayoutModel",
      "_view_count": null,
      "_view_module": "@jupyter-widgets/base",
      "_view_module_version": "1.2.0",
      "_view_name": "LayoutView",
      "align_content": null,
      "align_items": null,
      "align_self": null,
      "border": null,
      "bottom": null,
      "display": null,
      "flex": null,
      "flex_flow": null,
      "grid_area": null,
      "grid_auto_columns": null,
      "grid_auto_flow": null,
      "grid_auto_rows": null,
      "grid_column": null,
      "grid_gap": null,
      "grid_row": null,
      "grid_template_areas": null,
      "grid_template_columns": null,
      "grid_template_rows": null,
      "height": null,
      "justify_content": null,
      "justify_items": null,
      "left": null,
      "margin": null,
      "max_height": null,
      "max_width": null,
      "min_height": null,
      "min_width": null,
      "object_fit": null,
      "object_position": null,
      "order": null,
      "overflow": null,
      "overflow_x": null,
      "overflow_y": null,
      "padding": null,
      "right": null,
      "top": null,
      "visibility": null,
      "width": null
     }
    },
    "63a0e5d43ed1455e9d52c2948985ec63": {
     "model_module": "@jupyter-widgets/controls",
     "model_module_version": "1.5.0",
     "model_name": "HTMLModel",
     "state": {
      "_dom_classes": [],
      "_model_module": "@jupyter-widgets/controls",
      "_model_module_version": "1.5.0",
      "_model_name": "HTMLModel",
      "_view_count": null,
      "_view_module": "@jupyter-widgets/controls",
      "_view_module_version": "1.5.0",
      "_view_name": "HTMLView",
      "description": "",
      "description_tooltip": null,
      "layout": "IPY_MODEL_3a45728e4b8646779dba75d89096f1a8",
      "placeholder": "​",
      "style": "IPY_MODEL_96b50d66299d4c22b73405bc9a3f9579",
      "value": "100%"
     }
    },
    "96b50d66299d4c22b73405bc9a3f9579": {
     "model_module": "@jupyter-widgets/controls",
     "model_module_version": "1.5.0",
     "model_name": "DescriptionStyleModel",
     "state": {
      "_model_module": "@jupyter-widgets/controls",
      "_model_module_version": "1.5.0",
      "_model_name": "DescriptionStyleModel",
      "_view_count": null,
      "_view_module": "@jupyter-widgets/base",
      "_view_module_version": "1.2.0",
      "_view_name": "StyleView",
      "description_width": ""
     }
    },
    "a81712ac2ac14e5985b2fc7941b3bd30": {
     "model_module": "@jupyter-widgets/controls",
     "model_module_version": "1.5.0",
     "model_name": "HBoxModel",
     "state": {
      "_dom_classes": [],
      "_model_module": "@jupyter-widgets/controls",
      "_model_module_version": "1.5.0",
      "_model_name": "HBoxModel",
      "_view_count": null,
      "_view_module": "@jupyter-widgets/controls",
      "_view_module_version": "1.5.0",
      "_view_name": "HBoxView",
      "box_style": "",
      "children": [
       "IPY_MODEL_63a0e5d43ed1455e9d52c2948985ec63",
       "IPY_MODEL_29828f9cda034630b0ee0f8881c38f9a",
       "IPY_MODEL_254f12685809432c8b3990134fdc0681"
      ],
      "layout": "IPY_MODEL_db7a683a288d419f852d87935a29997e"
     }
    },
    "b7404773f76b400494957139d068592f": {
     "model_module": "@jupyter-widgets/base",
     "model_module_version": "1.2.0",
     "model_name": "LayoutModel",
     "state": {
      "_model_module": "@jupyter-widgets/base",
      "_model_module_version": "1.2.0",
      "_model_name": "LayoutModel",
      "_view_count": null,
      "_view_module": "@jupyter-widgets/base",
      "_view_module_version": "1.2.0",
      "_view_name": "LayoutView",
      "align_content": null,
      "align_items": null,
      "align_self": null,
      "border": null,
      "bottom": null,
      "display": null,
      "flex": null,
      "flex_flow": null,
      "grid_area": null,
      "grid_auto_columns": null,
      "grid_auto_flow": null,
      "grid_auto_rows": null,
      "grid_column": null,
      "grid_gap": null,
      "grid_row": null,
      "grid_template_areas": null,
      "grid_template_columns": null,
      "grid_template_rows": null,
      "height": null,
      "justify_content": null,
      "justify_items": null,
      "left": null,
      "margin": null,
      "max_height": null,
      "max_width": null,
      "min_height": null,
      "min_width": null,
      "object_fit": null,
      "object_position": null,
      "order": null,
      "overflow": null,
      "overflow_x": null,
      "overflow_y": null,
      "padding": null,
      "right": null,
      "top": null,
      "visibility": null,
      "width": null
     }
    },
    "db7a683a288d419f852d87935a29997e": {
     "model_module": "@jupyter-widgets/base",
     "model_module_version": "1.2.0",
     "model_name": "LayoutModel",
     "state": {
      "_model_module": "@jupyter-widgets/base",
      "_model_module_version": "1.2.0",
      "_model_name": "LayoutModel",
      "_view_count": null,
      "_view_module": "@jupyter-widgets/base",
      "_view_module_version": "1.2.0",
      "_view_name": "LayoutView",
      "align_content": null,
      "align_items": null,
      "align_self": null,
      "border": null,
      "bottom": null,
      "display": null,
      "flex": null,
      "flex_flow": null,
      "grid_area": null,
      "grid_auto_columns": null,
      "grid_auto_flow": null,
      "grid_auto_rows": null,
      "grid_column": null,
      "grid_gap": null,
      "grid_row": null,
      "grid_template_areas": null,
      "grid_template_columns": null,
      "grid_template_rows": null,
      "height": null,
      "justify_content": null,
      "justify_items": null,
      "left": null,
      "margin": null,
      "max_height": null,
      "max_width": null,
      "min_height": null,
      "min_width": null,
      "object_fit": null,
      "object_position": null,
      "order": null,
      "overflow": null,
      "overflow_x": null,
      "overflow_y": null,
      "padding": null,
      "right": null,
      "top": null,
      "visibility": null,
      "width": null
     }
    },
    "e7725236fce944f384e72836720a2524": {
     "model_module": "@jupyter-widgets/controls",
     "model_module_version": "1.5.0",
     "model_name": "ProgressStyleModel",
     "state": {
      "_model_module": "@jupyter-widgets/controls",
      "_model_module_version": "1.5.0",
      "_model_name": "ProgressStyleModel",
      "_view_count": null,
      "_view_module": "@jupyter-widgets/base",
      "_view_module_version": "1.2.0",
      "_view_name": "StyleView",
      "bar_color": null,
      "description_width": ""
     }
    },
    "e98fc36b054a42e19570c41882a4e0c6": {
     "model_module": "@jupyter-widgets/base",
     "model_module_version": "1.2.0",
     "model_name": "LayoutModel",
     "state": {
      "_model_module": "@jupyter-widgets/base",
      "_model_module_version": "1.2.0",
      "_model_name": "LayoutModel",
      "_view_count": null,
      "_view_module": "@jupyter-widgets/base",
      "_view_module_version": "1.2.0",
      "_view_name": "LayoutView",
      "align_content": null,
      "align_items": null,
      "align_self": null,
      "border": null,
      "bottom": null,
      "display": null,
      "flex": null,
      "flex_flow": null,
      "grid_area": null,
      "grid_auto_columns": null,
      "grid_auto_flow": null,
      "grid_auto_rows": null,
      "grid_column": null,
      "grid_gap": null,
      "grid_row": null,
      "grid_template_areas": null,
      "grid_template_columns": null,
      "grid_template_rows": null,
      "height": null,
      "justify_content": null,
      "justify_items": null,
      "left": null,
      "margin": null,
      "max_height": null,
      "max_width": null,
      "min_height": null,
      "min_width": null,
      "object_fit": null,
      "object_position": null,
      "order": null,
      "overflow": null,
      "overflow_x": null,
      "overflow_y": null,
      "padding": null,
      "right": null,
      "top": null,
      "visibility": null,
      "width": null
     }
    }
   }
  }
 },
 "nbformat": 4,
 "nbformat_minor": 1
}
