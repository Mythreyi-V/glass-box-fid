{
 "cells": [
  {
   "cell_type": "code",
   "execution_count": 1,
   "metadata": {
    "executionInfo": {
     "elapsed": 1270,
     "status": "ok",
     "timestamp": 1647505831659,
     "user": {
      "displayName": "Mythreyi Velmurugan",
      "photoUrl": "https://lh3.googleusercontent.com/a-/AOh14Ggmo3ZwNw7WahbpkVzVLN5i6jFbk-vO0eV7keYsmQ=s64",
      "userId": "09509504425224260690"
     },
     "user_tz": -600
    },
    "id": "T_R9kk-SthIr"
   },
   "outputs": [],
   "source": [
    "import pandas as pd\n",
    "from sklearn.preprocessing import OneHotEncoder\n",
    "import numpy as np\n",
    "\n",
    "import warnings\n",
    "warnings.filterwarnings(\"ignore\")\n",
    "\n",
    "data = pd.read_csv(\"student-por.csv\", sep = \";\")\n",
    "pro_data = data.dropna()\n",
    "\n",
    "non_num_cols = [column for column in pro_data.columns if pro_data[column].dtypes == \"O\"]\n",
    "num_cols = [column for column in pro_data.columns if column not in non_num_cols]\n",
    "\n",
    "num_data = pro_data[num_cols]\n",
    "cat_data = pro_data[non_num_cols]"
   ]
  },
  {
   "cell_type": "code",
   "execution_count": 2,
   "metadata": {
    "colab": {
     "base_uri": "https://localhost:8080/",
     "height": 423
    },
    "executionInfo": {
     "elapsed": 31,
     "status": "ok",
     "timestamp": 1647505831662,
     "user": {
      "displayName": "Mythreyi Velmurugan",
      "photoUrl": "https://lh3.googleusercontent.com/a-/AOh14Ggmo3ZwNw7WahbpkVzVLN5i6jFbk-vO0eV7keYsmQ=s64",
      "userId": "09509504425224260690"
     },
     "user_tz": -600
    },
    "id": "yq9dfGeithIv",
    "outputId": "e838b979-e00d-4a61-edc9-c05c9c287dda"
   },
   "outputs": [
    {
     "data": {
      "text/html": [
       "<div>\n",
       "<style scoped>\n",
       "    .dataframe tbody tr th:only-of-type {\n",
       "        vertical-align: middle;\n",
       "    }\n",
       "\n",
       "    .dataframe tbody tr th {\n",
       "        vertical-align: top;\n",
       "    }\n",
       "\n",
       "    .dataframe thead th {\n",
       "        text-align: right;\n",
       "    }\n",
       "</style>\n",
       "<table border=\"1\" class=\"dataframe\">\n",
       "  <thead>\n",
       "    <tr style=\"text-align: right;\">\n",
       "      <th></th>\n",
       "      <th>school</th>\n",
       "      <th>sex</th>\n",
       "      <th>address</th>\n",
       "      <th>famsize</th>\n",
       "      <th>Pstatus</th>\n",
       "      <th>Mjob</th>\n",
       "      <th>Fjob</th>\n",
       "      <th>reason</th>\n",
       "      <th>guardian</th>\n",
       "      <th>schoolsup</th>\n",
       "      <th>famsup</th>\n",
       "      <th>paid</th>\n",
       "      <th>activities</th>\n",
       "      <th>nursery</th>\n",
       "      <th>higher</th>\n",
       "      <th>internet</th>\n",
       "      <th>romantic</th>\n",
       "    </tr>\n",
       "  </thead>\n",
       "  <tbody>\n",
       "    <tr>\n",
       "      <th>0</th>\n",
       "      <td>GP</td>\n",
       "      <td>F</td>\n",
       "      <td>U</td>\n",
       "      <td>GT3</td>\n",
       "      <td>A</td>\n",
       "      <td>at_home</td>\n",
       "      <td>teacher</td>\n",
       "      <td>course</td>\n",
       "      <td>mother</td>\n",
       "      <td>yes</td>\n",
       "      <td>no</td>\n",
       "      <td>no</td>\n",
       "      <td>no</td>\n",
       "      <td>yes</td>\n",
       "      <td>yes</td>\n",
       "      <td>no</td>\n",
       "      <td>no</td>\n",
       "    </tr>\n",
       "    <tr>\n",
       "      <th>1</th>\n",
       "      <td>GP</td>\n",
       "      <td>F</td>\n",
       "      <td>U</td>\n",
       "      <td>GT3</td>\n",
       "      <td>T</td>\n",
       "      <td>at_home</td>\n",
       "      <td>other</td>\n",
       "      <td>course</td>\n",
       "      <td>father</td>\n",
       "      <td>no</td>\n",
       "      <td>yes</td>\n",
       "      <td>no</td>\n",
       "      <td>no</td>\n",
       "      <td>no</td>\n",
       "      <td>yes</td>\n",
       "      <td>yes</td>\n",
       "      <td>no</td>\n",
       "    </tr>\n",
       "    <tr>\n",
       "      <th>2</th>\n",
       "      <td>GP</td>\n",
       "      <td>F</td>\n",
       "      <td>U</td>\n",
       "      <td>LE3</td>\n",
       "      <td>T</td>\n",
       "      <td>at_home</td>\n",
       "      <td>other</td>\n",
       "      <td>other</td>\n",
       "      <td>mother</td>\n",
       "      <td>yes</td>\n",
       "      <td>no</td>\n",
       "      <td>no</td>\n",
       "      <td>no</td>\n",
       "      <td>yes</td>\n",
       "      <td>yes</td>\n",
       "      <td>yes</td>\n",
       "      <td>no</td>\n",
       "    </tr>\n",
       "    <tr>\n",
       "      <th>3</th>\n",
       "      <td>GP</td>\n",
       "      <td>F</td>\n",
       "      <td>U</td>\n",
       "      <td>GT3</td>\n",
       "      <td>T</td>\n",
       "      <td>health</td>\n",
       "      <td>services</td>\n",
       "      <td>home</td>\n",
       "      <td>mother</td>\n",
       "      <td>no</td>\n",
       "      <td>yes</td>\n",
       "      <td>no</td>\n",
       "      <td>yes</td>\n",
       "      <td>yes</td>\n",
       "      <td>yes</td>\n",
       "      <td>yes</td>\n",
       "      <td>yes</td>\n",
       "    </tr>\n",
       "    <tr>\n",
       "      <th>4</th>\n",
       "      <td>GP</td>\n",
       "      <td>F</td>\n",
       "      <td>U</td>\n",
       "      <td>GT3</td>\n",
       "      <td>T</td>\n",
       "      <td>other</td>\n",
       "      <td>other</td>\n",
       "      <td>home</td>\n",
       "      <td>father</td>\n",
       "      <td>no</td>\n",
       "      <td>yes</td>\n",
       "      <td>no</td>\n",
       "      <td>no</td>\n",
       "      <td>yes</td>\n",
       "      <td>yes</td>\n",
       "      <td>no</td>\n",
       "      <td>no</td>\n",
       "    </tr>\n",
       "    <tr>\n",
       "      <th>...</th>\n",
       "      <td>...</td>\n",
       "      <td>...</td>\n",
       "      <td>...</td>\n",
       "      <td>...</td>\n",
       "      <td>...</td>\n",
       "      <td>...</td>\n",
       "      <td>...</td>\n",
       "      <td>...</td>\n",
       "      <td>...</td>\n",
       "      <td>...</td>\n",
       "      <td>...</td>\n",
       "      <td>...</td>\n",
       "      <td>...</td>\n",
       "      <td>...</td>\n",
       "      <td>...</td>\n",
       "      <td>...</td>\n",
       "      <td>...</td>\n",
       "    </tr>\n",
       "    <tr>\n",
       "      <th>644</th>\n",
       "      <td>MS</td>\n",
       "      <td>F</td>\n",
       "      <td>R</td>\n",
       "      <td>GT3</td>\n",
       "      <td>T</td>\n",
       "      <td>services</td>\n",
       "      <td>other</td>\n",
       "      <td>course</td>\n",
       "      <td>mother</td>\n",
       "      <td>no</td>\n",
       "      <td>no</td>\n",
       "      <td>no</td>\n",
       "      <td>yes</td>\n",
       "      <td>no</td>\n",
       "      <td>yes</td>\n",
       "      <td>yes</td>\n",
       "      <td>no</td>\n",
       "    </tr>\n",
       "    <tr>\n",
       "      <th>645</th>\n",
       "      <td>MS</td>\n",
       "      <td>F</td>\n",
       "      <td>U</td>\n",
       "      <td>LE3</td>\n",
       "      <td>T</td>\n",
       "      <td>teacher</td>\n",
       "      <td>services</td>\n",
       "      <td>course</td>\n",
       "      <td>mother</td>\n",
       "      <td>no</td>\n",
       "      <td>yes</td>\n",
       "      <td>no</td>\n",
       "      <td>no</td>\n",
       "      <td>yes</td>\n",
       "      <td>yes</td>\n",
       "      <td>yes</td>\n",
       "      <td>no</td>\n",
       "    </tr>\n",
       "    <tr>\n",
       "      <th>646</th>\n",
       "      <td>MS</td>\n",
       "      <td>F</td>\n",
       "      <td>U</td>\n",
       "      <td>GT3</td>\n",
       "      <td>T</td>\n",
       "      <td>other</td>\n",
       "      <td>other</td>\n",
       "      <td>course</td>\n",
       "      <td>mother</td>\n",
       "      <td>no</td>\n",
       "      <td>no</td>\n",
       "      <td>no</td>\n",
       "      <td>yes</td>\n",
       "      <td>yes</td>\n",
       "      <td>yes</td>\n",
       "      <td>no</td>\n",
       "      <td>no</td>\n",
       "    </tr>\n",
       "    <tr>\n",
       "      <th>647</th>\n",
       "      <td>MS</td>\n",
       "      <td>M</td>\n",
       "      <td>U</td>\n",
       "      <td>LE3</td>\n",
       "      <td>T</td>\n",
       "      <td>services</td>\n",
       "      <td>services</td>\n",
       "      <td>course</td>\n",
       "      <td>mother</td>\n",
       "      <td>no</td>\n",
       "      <td>no</td>\n",
       "      <td>no</td>\n",
       "      <td>no</td>\n",
       "      <td>no</td>\n",
       "      <td>yes</td>\n",
       "      <td>yes</td>\n",
       "      <td>no</td>\n",
       "    </tr>\n",
       "    <tr>\n",
       "      <th>648</th>\n",
       "      <td>MS</td>\n",
       "      <td>M</td>\n",
       "      <td>R</td>\n",
       "      <td>LE3</td>\n",
       "      <td>T</td>\n",
       "      <td>services</td>\n",
       "      <td>other</td>\n",
       "      <td>course</td>\n",
       "      <td>mother</td>\n",
       "      <td>no</td>\n",
       "      <td>no</td>\n",
       "      <td>no</td>\n",
       "      <td>no</td>\n",
       "      <td>no</td>\n",
       "      <td>yes</td>\n",
       "      <td>yes</td>\n",
       "      <td>no</td>\n",
       "    </tr>\n",
       "  </tbody>\n",
       "</table>\n",
       "<p>649 rows × 17 columns</p>\n",
       "</div>"
      ],
      "text/plain": [
       "    school sex address famsize Pstatus      Mjob      Fjob  reason guardian  \\\n",
       "0       GP   F       U     GT3       A   at_home   teacher  course   mother   \n",
       "1       GP   F       U     GT3       T   at_home     other  course   father   \n",
       "2       GP   F       U     LE3       T   at_home     other   other   mother   \n",
       "3       GP   F       U     GT3       T    health  services    home   mother   \n",
       "4       GP   F       U     GT3       T     other     other    home   father   \n",
       "..     ...  ..     ...     ...     ...       ...       ...     ...      ...   \n",
       "644     MS   F       R     GT3       T  services     other  course   mother   \n",
       "645     MS   F       U     LE3       T   teacher  services  course   mother   \n",
       "646     MS   F       U     GT3       T     other     other  course   mother   \n",
       "647     MS   M       U     LE3       T  services  services  course   mother   \n",
       "648     MS   M       R     LE3       T  services     other  course   mother   \n",
       "\n",
       "    schoolsup famsup paid activities nursery higher internet romantic  \n",
       "0         yes     no   no         no     yes    yes       no       no  \n",
       "1          no    yes   no         no      no    yes      yes       no  \n",
       "2         yes     no   no         no     yes    yes      yes       no  \n",
       "3          no    yes   no        yes     yes    yes      yes      yes  \n",
       "4          no    yes   no         no     yes    yes       no       no  \n",
       "..        ...    ...  ...        ...     ...    ...      ...      ...  \n",
       "644        no     no   no        yes      no    yes      yes       no  \n",
       "645        no    yes   no         no     yes    yes      yes       no  \n",
       "646        no     no   no        yes     yes    yes       no       no  \n",
       "647        no     no   no         no      no    yes      yes       no  \n",
       "648        no     no   no         no      no    yes      yes       no  \n",
       "\n",
       "[649 rows x 17 columns]"
      ]
     },
     "execution_count": 2,
     "metadata": {},
     "output_type": "execute_result"
    }
   ],
   "source": [
    "cat_data"
   ]
  },
  {
   "cell_type": "code",
   "execution_count": 3,
   "metadata": {
    "colab": {
     "base_uri": "https://localhost:8080/"
    },
    "executionInfo": {
     "elapsed": 29,
     "status": "ok",
     "timestamp": 1647505831664,
     "user": {
      "displayName": "Mythreyi Velmurugan",
      "photoUrl": "https://lh3.googleusercontent.com/a-/AOh14Ggmo3ZwNw7WahbpkVzVLN5i6jFbk-vO0eV7keYsmQ=s64",
      "userId": "09509504425224260690"
     },
     "user_tz": -600
    },
    "id": "FuNLW2xDthIw",
    "outputId": "d8dc2fa4-70d1-43ce-d005-b17be665a946"
   },
   "outputs": [],
   "source": [
    "encoder = OneHotEncoder(sparse = True)\n",
    "enc_data = encoder.fit_transform(cat_data)\n",
    "enc_df = pd.DataFrame.sparse.from_spmatrix(enc_data, columns = encoder.get_feature_names(non_num_cols))"
   ]
  },
  {
   "cell_type": "code",
   "execution_count": 4,
   "metadata": {
    "executionInfo": {
     "elapsed": 26,
     "status": "ok",
     "timestamp": 1647505831666,
     "user": {
      "displayName": "Mythreyi Velmurugan",
      "photoUrl": "https://lh3.googleusercontent.com/a-/AOh14Ggmo3ZwNw7WahbpkVzVLN5i6jFbk-vO0eV7keYsmQ=s64",
      "userId": "09509504425224260690"
     },
     "user_tz": -600
    },
    "id": "pZLh8DwuthIx"
   },
   "outputs": [],
   "source": [
    "fin_data = pd.concat([num_data.reset_index(), enc_df.reset_index()], axis = 1, join = 'inner').drop(['index'], axis = 1)\n",
    "fin_data.to_csv(\"student_scores.csv\", index = False)"
   ]
  },
  {
   "cell_type": "code",
   "execution_count": 5,
   "metadata": {
    "colab": {
     "base_uri": "https://localhost:8080/"
    },
    "executionInfo": {
     "elapsed": 29,
     "status": "ok",
     "timestamp": 1647505831670,
     "user": {
      "displayName": "Mythreyi Velmurugan",
      "photoUrl": "https://lh3.googleusercontent.com/a-/AOh14Ggmo3ZwNw7WahbpkVzVLN5i6jFbk-vO0eV7keYsmQ=s64",
      "userId": "09509504425224260690"
     },
     "user_tz": -600
    },
    "id": "96aXS6mm-vWL",
    "outputId": "0dc4c1a0-0986-453b-a8ac-59bf9061cbaf"
   },
   "outputs": [
    {
     "data": {
      "text/plain": [
       "Index(['age', 'Medu', 'Fedu', 'traveltime', 'studytime', 'failures', 'famrel',\n",
       "       'freetime', 'goout', 'Dalc', 'Walc', 'health', 'absences', 'G1', 'G2',\n",
       "       'G3', 'school_GP', 'school_MS', 'sex_F', 'sex_M', 'address_R',\n",
       "       'address_U', 'famsize_GT3', 'famsize_LE3', 'Pstatus_A', 'Pstatus_T',\n",
       "       'Mjob_at_home', 'Mjob_health', 'Mjob_other', 'Mjob_services',\n",
       "       'Mjob_teacher', 'Fjob_at_home', 'Fjob_health', 'Fjob_other',\n",
       "       'Fjob_services', 'Fjob_teacher', 'reason_course', 'reason_home',\n",
       "       'reason_other', 'reason_reputation', 'guardian_father',\n",
       "       'guardian_mother', 'guardian_other', 'schoolsup_no', 'schoolsup_yes',\n",
       "       'famsup_no', 'famsup_yes', 'paid_no', 'paid_yes', 'activities_no',\n",
       "       'activities_yes', 'nursery_no', 'nursery_yes', 'higher_no',\n",
       "       'higher_yes', 'internet_no', 'internet_yes', 'romantic_no',\n",
       "       'romantic_yes'],\n",
       "      dtype='object')"
      ]
     },
     "execution_count": 5,
     "metadata": {},
     "output_type": "execute_result"
    }
   ],
   "source": [
    "fin_data.columns"
   ]
  },
  {
   "cell_type": "code",
   "execution_count": 6,
   "metadata": {
    "executionInfo": {
     "elapsed": 28,
     "status": "ok",
     "timestamp": 1647505831673,
     "user": {
      "displayName": "Mythreyi Velmurugan",
      "photoUrl": "https://lh3.googleusercontent.com/a-/AOh14Ggmo3ZwNw7WahbpkVzVLN5i6jFbk-vO0eV7keYsmQ=s64",
      "userId": "09509504425224260690"
     },
     "user_tz": -600
    },
    "id": "oynoEZU3-bUo"
   },
   "outputs": [],
   "source": [
    "import json\n",
    "\n",
    "num_cols = [col for col in num_cols if col != \"G3\"]\n",
    "one_hot_cols = list(enc_df.columns)\n",
    "\n",
    "col_dict = {\"continuous\": num_cols, \"discrete\": one_hot_cols}\n",
    "\n",
    "form = json.dumps(col_dict)\n",
    "f = open(\"col_dict.json\", \"w\")\n",
    "f.write(form)\n",
    "f.close()"
   ]
  },
  {
   "cell_type": "code",
   "execution_count": 7,
   "metadata": {
    "colab": {
     "base_uri": "https://localhost:8080/"
    },
    "executionInfo": {
     "elapsed": 529,
     "status": "ok",
     "timestamp": 1647505832174,
     "user": {
      "displayName": "Mythreyi Velmurugan",
      "photoUrl": "https://lh3.googleusercontent.com/a-/AOh14Ggmo3ZwNw7WahbpkVzVLN5i6jFbk-vO0eV7keYsmQ=s64",
      "userId": "09509504425224260690"
     },
     "user_tz": -600
    },
    "id": "aZOsAfP6thIx",
    "outputId": "67582c45-d039-4511-d318-ad2e53697f28"
   },
   "outputs": [
    {
     "data": {
      "text/plain": [
       "(649, 59)"
      ]
     },
     "execution_count": 7,
     "metadata": {},
     "output_type": "execute_result"
    }
   ],
   "source": [
    "fin_data.shape"
   ]
  },
  {
   "cell_type": "code",
   "execution_count": 8,
   "metadata": {
    "colab": {
     "base_uri": "https://localhost:8080/"
    },
    "executionInfo": {
     "elapsed": 347,
     "status": "ok",
     "timestamp": 1647505885388,
     "user": {
      "displayName": "Mythreyi Velmurugan",
      "photoUrl": "https://lh3.googleusercontent.com/a-/AOh14Ggmo3ZwNw7WahbpkVzVLN5i6jFbk-vO0eV7keYsmQ=s64",
      "userId": "09509504425224260690"
     },
     "user_tz": -600
    },
    "id": "mrKdNyWuAKyI",
    "outputId": "569e3186-bf3b-49ca-9a7d-6d6ae369c467"
   },
   "outputs": [
    {
     "data": {
      "text/plain": [
       "{'continuous': ['age',\n",
       "  'Medu',\n",
       "  'Fedu',\n",
       "  'traveltime',\n",
       "  'studytime',\n",
       "  'failures',\n",
       "  'famrel',\n",
       "  'freetime',\n",
       "  'goout',\n",
       "  'Dalc',\n",
       "  'Walc',\n",
       "  'health',\n",
       "  'absences',\n",
       "  'G1',\n",
       "  'G2'],\n",
       " 'discrete': ['school_GP',\n",
       "  'school_MS',\n",
       "  'sex_F',\n",
       "  'sex_M',\n",
       "  'address_R',\n",
       "  'address_U',\n",
       "  'famsize_GT3',\n",
       "  'famsize_LE3',\n",
       "  'Pstatus_A',\n",
       "  'Pstatus_T',\n",
       "  'Mjob_at_home',\n",
       "  'Mjob_health',\n",
       "  'Mjob_other',\n",
       "  'Mjob_services',\n",
       "  'Mjob_teacher',\n",
       "  'Fjob_at_home',\n",
       "  'Fjob_health',\n",
       "  'Fjob_other',\n",
       "  'Fjob_services',\n",
       "  'Fjob_teacher',\n",
       "  'reason_course',\n",
       "  'reason_home',\n",
       "  'reason_other',\n",
       "  'reason_reputation',\n",
       "  'guardian_father',\n",
       "  'guardian_mother',\n",
       "  'guardian_other',\n",
       "  'schoolsup_no',\n",
       "  'schoolsup_yes',\n",
       "  'famsup_no',\n",
       "  'famsup_yes',\n",
       "  'paid_no',\n",
       "  'paid_yes',\n",
       "  'activities_no',\n",
       "  'activities_yes',\n",
       "  'nursery_no',\n",
       "  'nursery_yes',\n",
       "  'higher_no',\n",
       "  'higher_yes',\n",
       "  'internet_no',\n",
       "  'internet_yes',\n",
       "  'romantic_no',\n",
       "  'romantic_yes']}"
      ]
     },
     "execution_count": 8,
     "metadata": {},
     "output_type": "execute_result"
    }
   ],
   "source": [
    "with open('col_dict.json') as file:\n",
    "    col_dict = json.load(file)\n",
    "file.close()\n",
    "col_dict"
   ]
  }
 ],
 "metadata": {
  "colab": {
   "collapsed_sections": [],
   "name": "process_data.ipynb",
   "provenance": []
  },
  "kernelspec": {
   "display_name": "Python 3",
   "language": "python",
   "name": "python3"
  },
  "language_info": {
   "codemirror_mode": {
    "name": "ipython",
    "version": 3
   },
   "file_extension": ".py",
   "mimetype": "text/x-python",
   "name": "python",
   "nbconvert_exporter": "python",
   "pygments_lexer": "ipython3",
   "version": "3.7.8"
  }
 },
 "nbformat": 4,
 "nbformat_minor": 1
}
